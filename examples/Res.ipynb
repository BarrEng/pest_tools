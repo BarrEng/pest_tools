{
 "cells": [
  {
   "cell_type": "markdown",
   "metadata": {},
   "source": [
    "###Res class\n",
    "Operates on individual .rei or .res files\n",
    "* information on observation type (e.g. heads, fluxes) and also x, y location can be added via an observation information file\n",
    "(same as for Rei class)\n",
    "* the **obsinfo** attribute (dataframe) has the location and/or type of all observation, read in from the observation information file\n",
    "* the **df** attribute is a dataframe containing all of the information from the res or rei file, and is used to build a phi dataframe\n",
    "* the **phi** attribute (dateframe) has phi contribution for each observation, join with information from the obsinfo file (if any)"
   ]
  },
  {
   "cell_type": "code",
   "execution_count": 19,
   "metadata": {
    "collapsed": false
   },
   "outputs": [],
   "source": [
    "import sys\n",
    "sys.path.append('../pestools')\n",
    "import pestools\n",
    "\n",
    "% matplotlib inline\n",
    "res = pestools.Res('../cc/columbia_svda.rei.16', obs_info_file='../cc/observation_locations.csv')"
   ]
  },
  {
   "cell_type": "code",
   "execution_count": 22,
   "metadata": {
    "collapsed": false
   },
   "outputs": [
    {
     "data": {
      "text/html": [
       "<div style=\"max-height:1000px;max-width:1500px;overflow:auto;\">\n",
       "<table border=\"1\" class=\"dataframe\">\n",
       "  <thead>\n",
       "    <tr style=\"text-align: right;\">\n",
       "      <th></th>\n",
       "      <th>Name</th>\n",
       "      <th>Group</th>\n",
       "      <th>Measured</th>\n",
       "      <th>Modelled</th>\n",
       "      <th>Residual</th>\n",
       "      <th>Weight</th>\n",
       "      <th>Weighted_Residual</th>\n",
       "      <th>Absolute_Residual</th>\n",
       "      <th>Weighted_Absolute_Residual</th>\n",
       "      <th>Weighted_Sq_Residual</th>\n",
       "    </tr>\n",
       "  </thead>\n",
       "  <tbody>\n",
       "    <tr>\n",
       "      <th>7089222501_b</th>\n",
       "      <td>7089222501_b</td>\n",
       "      <td>head_best</td>\n",
       "      <td>858.13</td>\n",
       "      <td>850.1707</td>\n",
       "      <td>7.959346</td>\n",
       "      <td>0.2</td>\n",
       "      <td>1.591869</td>\n",
       "      <td>7.959346</td>\n",
       "      <td>1.591869</td>\n",
       "      <td>2.534048</td>\n",
       "    </tr>\n",
       "    <tr>\n",
       "      <th>1089192101_b</th>\n",
       "      <td>1089192101_b</td>\n",
       "      <td>head_best</td>\n",
       "      <td>893.24</td>\n",
       "      <td>891.5156</td>\n",
       "      <td>1.724436</td>\n",
       "      <td>0.2</td>\n",
       "      <td>0.344887</td>\n",
       "      <td>1.724436</td>\n",
       "      <td>0.344887</td>\n",
       "      <td>0.118947</td>\n",
       "    </tr>\n",
       "    <tr>\n",
       "      <th>2089103101_b</th>\n",
       "      <td>2089103101_b</td>\n",
       "      <td>head_best</td>\n",
       "      <td>924.60</td>\n",
       "      <td>909.9240</td>\n",
       "      <td>14.675990</td>\n",
       "      <td>0.2</td>\n",
       "      <td>2.935198</td>\n",
       "      <td>14.675990</td>\n",
       "      <td>2.935198</td>\n",
       "      <td>8.615387</td>\n",
       "    </tr>\n",
       "    <tr>\n",
       "      <th>3089103201_b</th>\n",
       "      <td>3089103201_b</td>\n",
       "      <td>head_best</td>\n",
       "      <td>911.44</td>\n",
       "      <td>910.1028</td>\n",
       "      <td>1.337156</td>\n",
       "      <td>0.2</td>\n",
       "      <td>0.267431</td>\n",
       "      <td>1.337156</td>\n",
       "      <td>0.267431</td>\n",
       "      <td>0.071519</td>\n",
       "    </tr>\n",
       "    <tr>\n",
       "      <th>2089475301_b</th>\n",
       "      <td>2089475301_b</td>\n",
       "      <td>head_best</td>\n",
       "      <td>729.25</td>\n",
       "      <td>733.7051</td>\n",
       "      <td>-4.455139</td>\n",
       "      <td>0.2</td>\n",
       "      <td>-0.891028</td>\n",
       "      <td>4.455139</td>\n",
       "      <td>0.891028</td>\n",
       "      <td>0.793931</td>\n",
       "    </tr>\n",
       "  </tbody>\n",
       "</table>\n",
       "</div>"
      ],
      "text/plain": [
       "                      Name      Group  Measured  Modelled   Residual  Weight  \\\n",
       "7089222501_b  7089222501_b  head_best    858.13  850.1707   7.959346     0.2   \n",
       "1089192101_b  1089192101_b  head_best    893.24  891.5156   1.724436     0.2   \n",
       "2089103101_b  2089103101_b  head_best    924.60  909.9240  14.675990     0.2   \n",
       "3089103201_b  3089103201_b  head_best    911.44  910.1028   1.337156     0.2   \n",
       "2089475301_b  2089475301_b  head_best    729.25  733.7051  -4.455139     0.2   \n",
       "\n",
       "              Weighted_Residual  Absolute_Residual  \\\n",
       "7089222501_b           1.591869           7.959346   \n",
       "1089192101_b           0.344887           1.724436   \n",
       "2089103101_b           2.935198          14.675990   \n",
       "3089103201_b           0.267431           1.337156   \n",
       "2089475301_b          -0.891028           4.455139   \n",
       "\n",
       "              Weighted_Absolute_Residual  Weighted_Sq_Residual  \n",
       "7089222501_b                    1.591869              2.534048  \n",
       "1089192101_b                    0.344887              0.118947  \n",
       "2089103101_b                    2.935198              8.615387  \n",
       "3089103201_b                    0.267431              0.071519  \n",
       "2089475301_b                    0.891028              0.793931  "
      ]
     },
     "execution_count": 22,
     "metadata": {},
     "output_type": "execute_result"
    }
   ],
   "source": [
    "res.df.head()"
   ]
  },
  {
   "cell_type": "code",
   "execution_count": 23,
   "metadata": {
    "collapsed": false
   },
   "outputs": [
    {
     "data": {
      "text/html": [
       "<div style=\"max-height:1000px;max-width:1500px;overflow:auto;\">\n",
       "<table border=\"1\" class=\"dataframe\">\n",
       "  <thead>\n",
       "    <tr style=\"text-align: right;\">\n",
       "      <th></th>\n",
       "      <th>X</th>\n",
       "      <th>Y</th>\n",
       "      <th>Type</th>\n",
       "      <th>Error</th>\n",
       "      <th>Group</th>\n",
       "    </tr>\n",
       "  </thead>\n",
       "  <tbody>\n",
       "    <tr>\n",
       "      <th>7089222501_b</th>\n",
       "      <td>570954.8275</td>\n",
       "      <td>296365.6586</td>\n",
       "      <td>head</td>\n",
       "      <td>5</td>\n",
       "      <td>head_best</td>\n",
       "    </tr>\n",
       "    <tr>\n",
       "      <th>1089192101_b</th>\n",
       "      <td>575025.8740</td>\n",
       "      <td>304202.1060</td>\n",
       "      <td>head</td>\n",
       "      <td>5</td>\n",
       "      <td>head_best</td>\n",
       "    </tr>\n",
       "    <tr>\n",
       "      <th>2089103101_b</th>\n",
       "      <td>586985.0743</td>\n",
       "      <td>304340.3521</td>\n",
       "      <td>head</td>\n",
       "      <td>5</td>\n",
       "      <td>head_best</td>\n",
       "    </tr>\n",
       "    <tr>\n",
       "      <th>3089103201_b</th>\n",
       "      <td>586962.2041</td>\n",
       "      <td>304370.9770</td>\n",
       "      <td>head</td>\n",
       "      <td>5</td>\n",
       "      <td>head_best</td>\n",
       "    </tr>\n",
       "    <tr>\n",
       "      <th>2089475301_b</th>\n",
       "      <td>536391.8551</td>\n",
       "      <td>305263.7315</td>\n",
       "      <td>head</td>\n",
       "      <td>5</td>\n",
       "      <td>head_best</td>\n",
       "    </tr>\n",
       "  </tbody>\n",
       "</table>\n",
       "</div>"
      ],
      "text/plain": [
       "                        X            Y  Type  Error      Group\n",
       "7089222501_b  570954.8275  296365.6586  head      5  head_best\n",
       "1089192101_b  575025.8740  304202.1060  head      5  head_best\n",
       "2089103101_b  586985.0743  304340.3521  head      5  head_best\n",
       "3089103201_b  586962.2041  304370.9770  head      5  head_best\n",
       "2089475301_b  536391.8551  305263.7315  head      5  head_best"
      ]
     },
     "execution_count": 23,
     "metadata": {},
     "output_type": "execute_result"
    }
   ],
   "source": [
    "res.obsinfo.head()"
   ]
  },
  {
   "cell_type": "code",
   "execution_count": 24,
   "metadata": {
    "collapsed": false
   },
   "outputs": [
    {
     "data": {
      "text/html": [
       "<div style=\"max-height:1000px;max-width:1500px;overflow:auto;\">\n",
       "<table border=\"1\" class=\"dataframe\">\n",
       "  <thead>\n",
       "    <tr style=\"text-align: right;\">\n",
       "      <th></th>\n",
       "      <th>Weighted_Sq_Residual</th>\n",
       "      <th>X</th>\n",
       "      <th>Y</th>\n",
       "      <th>Type</th>\n",
       "      <th>Error</th>\n",
       "      <th>Group</th>\n",
       "    </tr>\n",
       "  </thead>\n",
       "  <tbody>\n",
       "    <tr>\n",
       "      <th>7089222501_b</th>\n",
       "      <td>2.534048</td>\n",
       "      <td>570954.8275</td>\n",
       "      <td>296365.6586</td>\n",
       "      <td>head</td>\n",
       "      <td>5</td>\n",
       "      <td>head_best</td>\n",
       "    </tr>\n",
       "    <tr>\n",
       "      <th>1089192101_b</th>\n",
       "      <td>0.118947</td>\n",
       "      <td>575025.8740</td>\n",
       "      <td>304202.1060</td>\n",
       "      <td>head</td>\n",
       "      <td>5</td>\n",
       "      <td>head_best</td>\n",
       "    </tr>\n",
       "    <tr>\n",
       "      <th>2089103101_b</th>\n",
       "      <td>8.615387</td>\n",
       "      <td>586985.0743</td>\n",
       "      <td>304340.3521</td>\n",
       "      <td>head</td>\n",
       "      <td>5</td>\n",
       "      <td>head_best</td>\n",
       "    </tr>\n",
       "    <tr>\n",
       "      <th>3089103201_b</th>\n",
       "      <td>0.071519</td>\n",
       "      <td>586962.2041</td>\n",
       "      <td>304370.9770</td>\n",
       "      <td>head</td>\n",
       "      <td>5</td>\n",
       "      <td>head_best</td>\n",
       "    </tr>\n",
       "    <tr>\n",
       "      <th>2089475301_b</th>\n",
       "      <td>0.793931</td>\n",
       "      <td>536391.8551</td>\n",
       "      <td>305263.7315</td>\n",
       "      <td>head</td>\n",
       "      <td>5</td>\n",
       "      <td>head_best</td>\n",
       "    </tr>\n",
       "  </tbody>\n",
       "</table>\n",
       "</div>"
      ],
      "text/plain": [
       "              Weighted_Sq_Residual            X            Y  Type  Error  \\\n",
       "7089222501_b              2.534048  570954.8275  296365.6586  head      5   \n",
       "1089192101_b              0.118947  575025.8740  304202.1060  head      5   \n",
       "2089103101_b              8.615387  586985.0743  304340.3521  head      5   \n",
       "3089103201_b              0.071519  586962.2041  304370.9770  head      5   \n",
       "2089475301_b              0.793931  536391.8551  305263.7315  head      5   \n",
       "\n",
       "                  Group  \n",
       "7089222501_b  head_best  \n",
       "1089192101_b  head_best  \n",
       "2089103101_b  head_best  \n",
       "3089103201_b  head_best  \n",
       "2089475301_b  head_best  "
      ]
     },
     "execution_count": 24,
     "metadata": {},
     "output_type": "execute_result"
    }
   ],
   "source": [
    "res.phi.head()"
   ]
  },
  {
   "cell_type": "code",
   "execution_count": 25,
   "metadata": {
    "collapsed": false,
    "scrolled": true
   },
   "outputs": [
    {
     "data": {
      "text/html": [
       "<div style=\"max-height:1000px;max-width:1500px;overflow:auto;\">\n",
       "<table border=\"1\" class=\"dataframe\">\n",
       "  <thead>\n",
       "    <tr style=\"text-align: right;\">\n",
       "      <th></th>\n",
       "      <th>Weighted_Sq_Residual</th>\n",
       "      <th>Type</th>\n",
       "    </tr>\n",
       "    <tr>\n",
       "      <th>Group</th>\n",
       "      <th></th>\n",
       "      <th></th>\n",
       "    </tr>\n",
       "  </thead>\n",
       "  <tbody>\n",
       "    <tr>\n",
       "      <th>cc_streams</th>\n",
       "      <td>11.261053</td>\n",
       "      <td>observation</td>\n",
       "    </tr>\n",
       "    <tr>\n",
       "      <th>dhdz</th>\n",
       "      <td>1007.118587</td>\n",
       "      <td>observation</td>\n",
       "    </tr>\n",
       "    <tr>\n",
       "      <th>head_best</th>\n",
       "      <td>189.855254</td>\n",
       "      <td>observation</td>\n",
       "    </tr>\n",
       "    <tr>\n",
       "      <th>head_fair</th>\n",
       "      <td>557.776564</td>\n",
       "      <td>observation</td>\n",
       "    </tr>\n",
       "    <tr>\n",
       "      <th>head_good</th>\n",
       "      <td>623.410195</td>\n",
       "      <td>observation</td>\n",
       "    </tr>\n",
       "  </tbody>\n",
       "</table>\n",
       "</div>"
      ],
      "text/plain": [
       "            Weighted_Sq_Residual         Type\n",
       "Group                                        \n",
       "cc_streams             11.261053  observation\n",
       "dhdz                 1007.118587  observation\n",
       "head_best             189.855254  observation\n",
       "head_fair             557.776564  observation\n",
       "head_good             623.410195  observation"
      ]
     },
     "execution_count": 25,
     "metadata": {},
     "output_type": "execute_result"
    }
   ],
   "source": [
    "res.phi_by_group.head()"
   ]
  },
  {
   "cell_type": "code",
   "execution_count": 27,
   "metadata": {
    "collapsed": false
   },
   "outputs": [
    {
     "data": {
      "text/plain": [
       "['dhdz',\n",
       " 'cc_streams',\n",
       " 'headwaters',\n",
       " 'head_fair',\n",
       " 'head_best',\n",
       " 'sm_streams',\n",
       " 'head_poor',\n",
       " 'head_good',\n",
       " 'wcrs1',\n",
       " 'wcrs2',\n",
       " 'lrg_streams',\n",
       " 'zero_streams']"
      ]
     },
     "execution_count": 27,
     "metadata": {},
     "output_type": "execute_result"
    }
   ],
   "source": [
    "obsgroups = [g for g in res.obs_groups if 'regul' not in g]\n",
    "obsgroups"
   ]
  },
  {
   "cell_type": "code",
   "execution_count": 28,
   "metadata": {
    "collapsed": false
   },
   "outputs": [
    {
     "data": {
      "text/plain": [
       "<matplotlib.axes._subplots.AxesSubplot at 0x10b555650>"
      ]
     },
     "execution_count": 28,
     "metadata": {},
     "output_type": "execute_result"
    },
    {
     "data": {
      "image/png": "[encoded data removed]",
      "text/plain": [
       "<matplotlib.figure.Figure at 0x10b5551d0>"
      ]
     },
     "metadata": {},
     "output_type": "display_data"
    }
   ],
   "source": [
    "res.phi_by_group.ix[obsgroups, 'Weighted_Sq_Residual'].plot(kind='pie', figsize=(8,6))"
   ]
  },
  {
   "cell_type": "markdown",
   "metadata": {},
   "source": [
    "###Customized grouping from information in observation info file\n",
    "####group by a unique entry in a column:"
   ]
  },
  {
   "cell_type": "code",
   "execution_count": 29,
   "metadata": {
    "collapsed": false
   },
   "outputs": [
    {
     "data": {
      "text/html": [
       "<div style=\"max-height:1000px;max-width:1500px;overflow:auto;\">\n",
       "<table border=\"1\" class=\"dataframe\">\n",
       "  <thead>\n",
       "    <tr style=\"text-align: right;\">\n",
       "      <th></th>\n",
       "      <th>Weighted_Sq_Residual</th>\n",
       "      <th>X</th>\n",
       "      <th>Y</th>\n",
       "      <th>Type</th>\n",
       "      <th>Error</th>\n",
       "      <th>Group</th>\n",
       "    </tr>\n",
       "  </thead>\n",
       "  <tbody>\n",
       "    <tr>\n",
       "      <th>rio34_diff</th>\n",
       "      <td>0.486997</td>\n",
       "      <td>579845.720</td>\n",
       "      <td>329653.5991</td>\n",
       "      <td>vertical head difference</td>\n",
       "      <td>0</td>\n",
       "      <td>dhdz</td>\n",
       "    </tr>\n",
       "    <tr>\n",
       "      <th>rio46_diff</th>\n",
       "      <td>937.524386</td>\n",
       "      <td>579845.720</td>\n",
       "      <td>329653.5991</td>\n",
       "      <td>vertical head difference</td>\n",
       "      <td>0</td>\n",
       "      <td>dhdz</td>\n",
       "    </tr>\n",
       "    <tr>\n",
       "      <th>arl34_diff</th>\n",
       "      <td>24.413273</td>\n",
       "      <td>573068.296</td>\n",
       "      <td>314776.4022</td>\n",
       "      <td>vertical head difference</td>\n",
       "      <td>0</td>\n",
       "      <td>dhdz</td>\n",
       "    </tr>\n",
       "    <tr>\n",
       "      <th>arl46_diff</th>\n",
       "      <td>44.693931</td>\n",
       "      <td>573068.296</td>\n",
       "      <td>314776.4022</td>\n",
       "      <td>vertical head difference</td>\n",
       "      <td>0</td>\n",
       "      <td>dhdz</td>\n",
       "    </tr>\n",
       "  </tbody>\n",
       "</table>\n",
       "</div>"
      ],
      "text/plain": [
       "            Weighted_Sq_Residual           X            Y  \\\n",
       "rio34_diff              0.486997  579845.720  329653.5991   \n",
       "rio46_diff            937.524386  579845.720  329653.5991   \n",
       "arl34_diff             24.413273  573068.296  314776.4022   \n",
       "arl46_diff             44.693931  573068.296  314776.4022   \n",
       "\n",
       "                                Type  Error Group  \n",
       "rio34_diff  vertical head difference      0  dhdz  \n",
       "rio46_diff  vertical head difference      0  dhdz  \n",
       "arl34_diff  vertical head difference      0  dhdz  \n",
       "arl46_diff  vertical head difference      0  dhdz  "
      ]
     },
     "execution_count": 29,
     "metadata": {},
     "output_type": "execute_result"
    }
   ],
   "source": [
    "res.phi[res.phi.Type == 'vertical head difference']"
   ]
  },
  {
   "cell_type": "markdown",
   "metadata": {},
   "source": [
    "####group by column entries containing specific string (for example, get all observations for the Fox River):"
   ]
  },
  {
   "cell_type": "code",
   "execution_count": 30,
   "metadata": {
    "collapsed": false
   },
   "outputs": [
    {
     "data": {
      "text/html": [
       "<div style=\"max-height:1000px;max-width:1500px;overflow:auto;\">\n",
       "<table border=\"1\" class=\"dataframe\">\n",
       "  <thead>\n",
       "    <tr style=\"text-align: right;\">\n",
       "      <th></th>\n",
       "      <th>Weighted_Sq_Residual</th>\n",
       "      <th>X</th>\n",
       "      <th>Y</th>\n",
       "      <th>Type</th>\n",
       "      <th>Error</th>\n",
       "      <th>Group</th>\n",
       "    </tr>\n",
       "  </thead>\n",
       "  <tbody>\n",
       "    <tr>\n",
       "      <th>4072743_foxrive</th>\n",
       "      <td>1.660959</td>\n",
       "      <td>574111.0320</td>\n",
       "      <td>368286.5330</td>\n",
       "      <td>baseflow</td>\n",
       "      <td>3626000</td>\n",
       "      <td>lrg_streams</td>\n",
       "    </tr>\n",
       "    <tr>\n",
       "      <th>40727335_foxriv</th>\n",
       "      <td>0.000000</td>\n",
       "      <td>568695.4220</td>\n",
       "      <td>355560.3450</td>\n",
       "      <td>baseflow</td>\n",
       "      <td>18400000</td>\n",
       "      <td>zero_streams</td>\n",
       "    </tr>\n",
       "    <tr>\n",
       "      <th>4072480_foxrive</th>\n",
       "      <td>0.059789</td>\n",
       "      <td>565918.1875</td>\n",
       "      <td>342543.0625</td>\n",
       "      <td>baseflow</td>\n",
       "      <td>425600</td>\n",
       "      <td>lrg_streams</td>\n",
       "    </tr>\n",
       "    <tr>\n",
       "      <th>4072400_foxrive</th>\n",
       "      <td>7.960490</td>\n",
       "      <td>582356.0000</td>\n",
       "      <td>346007.7500</td>\n",
       "      <td>baseflow</td>\n",
       "      <td>126980</td>\n",
       "      <td>lrg_streams</td>\n",
       "    </tr>\n",
       "    <tr>\n",
       "      <th>4072430_foxrive</th>\n",
       "      <td>151.358236</td>\n",
       "      <td>577147.7500</td>\n",
       "      <td>341333.5625</td>\n",
       "      <td>baseflow</td>\n",
       "      <td>143800</td>\n",
       "      <td>sm_streams</td>\n",
       "    </tr>\n",
       "  </tbody>\n",
       "</table>\n",
       "</div>"
      ],
      "text/plain": [
       "                 Weighted_Sq_Residual            X            Y      Type  \\\n",
       "4072743_foxrive              1.660959  574111.0320  368286.5330  baseflow   \n",
       "40727335_foxriv              0.000000  568695.4220  355560.3450  baseflow   \n",
       "4072480_foxrive              0.059789  565918.1875  342543.0625  baseflow   \n",
       "4072400_foxrive              7.960490  582356.0000  346007.7500  baseflow   \n",
       "4072430_foxrive            151.358236  577147.7500  341333.5625  baseflow   \n",
       "\n",
       "                    Error         Group  \n",
       "4072743_foxrive   3626000   lrg_streams  \n",
       "40727335_foxriv  18400000  zero_streams  \n",
       "4072480_foxrive    425600   lrg_streams  \n",
       "4072400_foxrive    126980   lrg_streams  \n",
       "4072430_foxrive    143800    sm_streams  "
      ]
     },
     "execution_count": 30,
     "metadata": {},
     "output_type": "execute_result"
    }
   ],
   "source": [
    "res.phi[[True if 'fox' in n else False for n in res.phi.index]]"
   ]
  },
  {
   "cell_type": "markdown",
   "metadata": {},
   "source": [
    "####multiple criteria:"
   ]
  },
  {
   "cell_type": "code",
   "execution_count": null,
   "metadata": {
    "collapsed": false
   },
   "outputs": [],
   "source": [
    "res.phi[[True if 'fox' in n else False for n in res.phi.index] & (res.phi.Group == 'lrg_streams')]"
   ]
  },
  {
   "cell_type": "code",
   "execution_count": 31,
   "metadata": {
    "collapsed": false
   },
   "outputs": [
    {
     "data": {
      "text/html": [
       "<div style=\"max-height:1000px;max-width:1500px;overflow:auto;\">\n",
       "<table border=\"1\" class=\"dataframe\">\n",
       "  <thead>\n",
       "    <tr style=\"text-align: right;\">\n",
       "      <th></th>\n",
       "      <th>Group summary</th>\n",
       "    </tr>\n",
       "  </thead>\n",
       "  <tbody>\n",
       "    <tr>\n",
       "      <th>n</th>\n",
       "      <td>929</td>\n",
       "    </tr>\n",
       "    <tr>\n",
       "      <th>Range</th>\n",
       "      <td>240.836</td>\n",
       "    </tr>\n",
       "    <tr>\n",
       "      <th>Max</th>\n",
       "      <td>80.56311</td>\n",
       "    </tr>\n",
       "    <tr>\n",
       "      <th>Min</th>\n",
       "      <td>-160.2729</td>\n",
       "    </tr>\n",
       "    <tr>\n",
       "      <th>Mean</th>\n",
       "      <td>-7.129025</td>\n",
       "    </tr>\n",
       "    <tr>\n",
       "      <th>Standard deviation</th>\n",
       "      <td>22.53798</td>\n",
       "    </tr>\n",
       "    <tr>\n",
       "      <th>Varience</th>\n",
       "      <td>507.9606</td>\n",
       "    </tr>\n",
       "    <tr>\n",
       "      <th>25%</th>\n",
       "      <td>-17.02344</td>\n",
       "    </tr>\n",
       "    <tr>\n",
       "      <th>50%</th>\n",
       "      <td>-4.532654</td>\n",
       "    </tr>\n",
       "    <tr>\n",
       "      <th>75%</th>\n",
       "      <td>3.900859</td>\n",
       "    </tr>\n",
       "    <tr>\n",
       "      <th>Max (absolute)</th>\n",
       "      <td>160.2729</td>\n",
       "    </tr>\n",
       "    <tr>\n",
       "      <th>Min (absolute)</th>\n",
       "      <td>0.03363037</td>\n",
       "    </tr>\n",
       "    <tr>\n",
       "      <th>MAE</th>\n",
       "      <td>16.15597</td>\n",
       "    </tr>\n",
       "    <tr>\n",
       "      <th>RMSE</th>\n",
       "      <td>23.62704</td>\n",
       "    </tr>\n",
       "    <tr>\n",
       "      <th>RMSE/range</th>\n",
       "      <td>0.09810425</td>\n",
       "    </tr>\n",
       "    <tr>\n",
       "      <th>Normally Distributed</th>\n",
       "      <td>True</td>\n",
       "    </tr>\n",
       "    <tr>\n",
       "      <th>p-value</th>\n",
       "      <td>1.091127e-20</td>\n",
       "    </tr>\n",
       "  </tbody>\n",
       "</table>\n",
       "</div>"
      ],
      "text/plain": [
       "                     Group summary\n",
       "n                              929\n",
       "Range                      240.836\n",
       "Max                       80.56311\n",
       "Min                      -160.2729\n",
       "Mean                     -7.129025\n",
       "Standard deviation        22.53798\n",
       "Varience                  507.9606\n",
       "25%                      -17.02344\n",
       "50%                      -4.532654\n",
       "75%                       3.900859\n",
       "Max (absolute)            160.2729\n",
       "Min (absolute)          0.03363037\n",
       "MAE                       16.15597\n",
       "RMSE                      23.62704\n",
       "RMSE/range              0.09810425\n",
       "Normally Distributed          True\n",
       "p-value               1.091127e-20"
      ]
     },
     "execution_count": 31,
     "metadata": {},
     "output_type": "execute_result"
    }
   ],
   "source": [
    "res.describe_groups(['head_good','head_fair'])"
   ]
  },
  {
   "cell_type": "code",
   "execution_count": null,
   "metadata": {
    "collapsed": false
   },
   "outputs": [],
   "source": [
    "res.describe_groups('head_good').ix[['Mean', 'MAE', 'RMSE']]"
   ]
  },
  {
   "cell_type": "code",
   "execution_count": 32,
   "metadata": {
    "collapsed": false
   },
   "outputs": [
    {
     "data": {
      "text/html": [
       "<div style=\"max-height:1000px;max-width:1500px;overflow:auto;\">\n",
       "<table border=\"1\" class=\"dataframe\">\n",
       "  <thead>\n",
       "    <tr style=\"text-align: right;\">\n",
       "      <th></th>\n",
       "      <th>n</th>\n",
       "      <th>Range</th>\n",
       "      <th>Max</th>\n",
       "      <th>Min</th>\n",
       "      <th>Mean</th>\n",
       "      <th>Standard deviation</th>\n",
       "      <th>Varience</th>\n",
       "      <th>25%</th>\n",
       "      <th>50%</th>\n",
       "      <th>75%</th>\n",
       "      <th>Max (absolute)</th>\n",
       "      <th>Min (absolute)</th>\n",
       "      <th>MAE</th>\n",
       "      <th>RMSE</th>\n",
       "      <th>RMSE/range</th>\n",
       "      <th>Normally Distributed</th>\n",
       "      <th>p-value</th>\n",
       "    </tr>\n",
       "  </thead>\n",
       "  <tbody>\n",
       "    <tr>\n",
       "      <th>cc_streams</th>\n",
       "      <td>37</td>\n",
       "      <td>2496850</td>\n",
       "      <td>1402350</td>\n",
       "      <td>-1094500</td>\n",
       "      <td>109268.1</td>\n",
       "      <td>461499.8</td>\n",
       "      <td>2.12982e+11</td>\n",
       "      <td>-17015</td>\n",
       "      <td>128220</td>\n",
       "      <td>341000</td>\n",
       "      <td>1402350</td>\n",
       "      <td>7250</td>\n",
       "      <td>322764.6</td>\n",
       "      <td>468150.9</td>\n",
       "      <td>0.1874966</td>\n",
       "      <td>True</td>\n",
       "      <td>0.002070555</td>\n",
       "    </tr>\n",
       "    <tr>\n",
       "      <th>dhdz</th>\n",
       "      <td>4</td>\n",
       "      <td>3.730437</td>\n",
       "      <td>3.061902</td>\n",
       "      <td>-0.6685352</td>\n",
       "      <td>0.8279444</td>\n",
       "      <td>1.63927</td>\n",
       "      <td>2.687206</td>\n",
       "      <td>-0.2194727</td>\n",
       "      <td>0.4592053</td>\n",
       "      <td>1.506622</td>\n",
       "      <td>3.061902</td>\n",
       "      <td>0.06978516</td>\n",
       "      <td>1.197105</td>\n",
       "      <td>1.64344</td>\n",
       "      <td>0.440549</td>\n",
       "      <td>False</td>\n",
       "      <td>0.6010302</td>\n",
       "    </tr>\n",
       "    <tr>\n",
       "      <th>head_best</th>\n",
       "      <td>15</td>\n",
       "      <td>75.72296</td>\n",
       "      <td>36.76899</td>\n",
       "      <td>-38.95397</td>\n",
       "      <td>-0.5894</td>\n",
       "      <td>18.40258</td>\n",
       "      <td>338.655</td>\n",
       "      <td>-5.275362</td>\n",
       "      <td>1.724436</td>\n",
       "      <td>8.545752</td>\n",
       "      <td>38.95397</td>\n",
       "      <td>1.208159</td>\n",
       "      <td>12.58444</td>\n",
       "      <td>17.78835</td>\n",
       "      <td>0.2349136</td>\n",
       "      <td>False</td>\n",
       "      <td>0.2145584</td>\n",
       "    </tr>\n",
       "    <tr>\n",
       "      <th>head_fair</th>\n",
       "      <td>903</td>\n",
       "      <td>240.836</td>\n",
       "      <td>80.56311</td>\n",
       "      <td>-160.2729</td>\n",
       "      <td>-7.25643</td>\n",
       "      <td>22.47088</td>\n",
       "      <td>504.9404</td>\n",
       "      <td>-17.06405</td>\n",
       "      <td>-4.727051</td>\n",
       "      <td>3.854425</td>\n",
       "      <td>160.2729</td>\n",
       "      <td>0.03363037</td>\n",
       "      <td>16.17359</td>\n",
       "      <td>23.60163</td>\n",
       "      <td>0.09799876</td>\n",
       "      <td>True</td>\n",
       "      <td>1.804073e-20</td>\n",
       "    </tr>\n",
       "    <tr>\n",
       "      <th>head_good</th>\n",
       "      <td>26</td>\n",
       "      <td>122.5109</td>\n",
       "      <td>64.56845</td>\n",
       "      <td>-57.94247</td>\n",
       "      <td>-2.704151</td>\n",
       "      <td>24.82534</td>\n",
       "      <td>616.2975</td>\n",
       "      <td>-5.220712</td>\n",
       "      <td>-0.8452456</td>\n",
       "      <td>6.881475</td>\n",
       "      <td>64.56845</td>\n",
       "      <td>0.3562622</td>\n",
       "      <td>15.54417</td>\n",
       "      <td>24.49298</td>\n",
       "      <td>0.1999249</td>\n",
       "      <td>True</td>\n",
       "      <td>0.00465009</td>\n",
       "    </tr>\n",
       "    <tr>\n",
       "      <th>head_poor</th>\n",
       "      <td>265</td>\n",
       "      <td>405.3654</td>\n",
       "      <td>204.6335</td>\n",
       "      <td>-200.7319</td>\n",
       "      <td>-12.43844</td>\n",
       "      <td>38.91341</td>\n",
       "      <td>1514.253</td>\n",
       "      <td>-25.36285</td>\n",
       "      <td>-8.068298</td>\n",
       "      <td>5.373901</td>\n",
       "      <td>204.6335</td>\n",
       "      <td>0.06878662</td>\n",
       "      <td>26.1597</td>\n",
       "      <td>40.78301</td>\n",
       "      <td>0.100608</td>\n",
       "      <td>True</td>\n",
       "      <td>1.264565e-13</td>\n",
       "    </tr>\n",
       "    <tr>\n",
       "      <th>headwaters</th>\n",
       "      <td>17</td>\n",
       "      <td>761980</td>\n",
       "      <td>158370</td>\n",
       "      <td>-603610</td>\n",
       "      <td>-100964.3</td>\n",
       "      <td>209480.1</td>\n",
       "      <td>4.38819e+10</td>\n",
       "      <td>-265935</td>\n",
       "      <td>-61098.5</td>\n",
       "      <td>54839</td>\n",
       "      <td>603610</td>\n",
       "      <td>11865</td>\n",
       "      <td>172552</td>\n",
       "      <td>226923.8</td>\n",
       "      <td>0.2978081</td>\n",
       "      <td>False</td>\n",
       "      <td>0.2524266</td>\n",
       "    </tr>\n",
       "    <tr>\n",
       "      <th>lrg_streams</th>\n",
       "      <td>24</td>\n",
       "      <td>7295250</td>\n",
       "      <td>4669500</td>\n",
       "      <td>-2625750</td>\n",
       "      <td>155710.2</td>\n",
       "      <td>1520234</td>\n",
       "      <td>2.31111e+12</td>\n",
       "      <td>-462850</td>\n",
       "      <td>-288950</td>\n",
       "      <td>459400</td>\n",
       "      <td>4669500</td>\n",
       "      <td>95150</td>\n",
       "      <td>999835.2</td>\n",
       "      <td>1496349</td>\n",
       "      <td>0.2051127</td>\n",
       "      <td>True</td>\n",
       "      <td>0.006094412</td>\n",
       "    </tr>\n",
       "    <tr>\n",
       "      <th>sm_streams</th>\n",
       "      <td>14</td>\n",
       "      <td>1646585</td>\n",
       "      <td>260385</td>\n",
       "      <td>-1386200</td>\n",
       "      <td>-407688.9</td>\n",
       "      <td>532287.2</td>\n",
       "      <td>2.833296e+11</td>\n",
       "      <td>-809075</td>\n",
       "      <td>-174962.5</td>\n",
       "      <td>-20046.25</td>\n",
       "      <td>1386200</td>\n",
       "      <td>3475</td>\n",
       "      <td>476406.8</td>\n",
       "      <td>655211.5</td>\n",
       "      <td>0.3979214</td>\n",
       "      <td>False</td>\n",
       "      <td>0.179482</td>\n",
       "    </tr>\n",
       "    <tr>\n",
       "      <th>wcrs1</th>\n",
       "      <td>2995</td>\n",
       "      <td>423.267</td>\n",
       "      <td>193.2158</td>\n",
       "      <td>-230.0512</td>\n",
       "      <td>-0.5078302</td>\n",
       "      <td>21.64913</td>\n",
       "      <td>468.6847</td>\n",
       "      <td>-7.247637</td>\n",
       "      <td>0.3458325</td>\n",
       "      <td>6.50047</td>\n",
       "      <td>230.0512</td>\n",
       "      <td>0.001933594</td>\n",
       "      <td>12.08811</td>\n",
       "      <td>21.65147</td>\n",
       "      <td>0.05115322</td>\n",
       "      <td>True</td>\n",
       "      <td>0</td>\n",
       "    </tr>\n",
       "    <tr>\n",
       "      <th>wcrs2</th>\n",
       "      <td>294</td>\n",
       "      <td>242.5144</td>\n",
       "      <td>160.8642</td>\n",
       "      <td>-81.65024</td>\n",
       "      <td>-1.945875</td>\n",
       "      <td>21.99508</td>\n",
       "      <td>483.7837</td>\n",
       "      <td>-10.33701</td>\n",
       "      <td>-0.7851672</td>\n",
       "      <td>7.90498</td>\n",
       "      <td>160.8642</td>\n",
       "      <td>0.02245117</td>\n",
       "      <td>13.99378</td>\n",
       "      <td>22.0437</td>\n",
       "      <td>0.09089643</td>\n",
       "      <td>True</td>\n",
       "      <td>1.822061e-15</td>\n",
       "    </tr>\n",
       "    <tr>\n",
       "      <th>zero_streams</th>\n",
       "      <td>5</td>\n",
       "      <td>4138050</td>\n",
       "      <td>2524500</td>\n",
       "      <td>-1613550</td>\n",
       "      <td>100950</td>\n",
       "      <td>1667071</td>\n",
       "      <td>2.779127e+12</td>\n",
       "      <td>-1320150</td>\n",
       "      <td>333750</td>\n",
       "      <td>580200</td>\n",
       "      <td>2524500</td>\n",
       "      <td>333750</td>\n",
       "      <td>1274430</td>\n",
       "      <td>1494487</td>\n",
       "      <td>0.3611574</td>\n",
       "      <td>False</td>\n",
       "      <td>0.5715624</td>\n",
       "    </tr>\n",
       "  </tbody>\n",
       "</table>\n",
       "</div>"
      ],
      "text/plain": [
       "                 n     Range       Max        Min       Mean  \\\n",
       "cc_streams      37   2496850   1402350   -1094500   109268.1   \n",
       "dhdz             4  3.730437  3.061902 -0.6685352  0.8279444   \n",
       "head_best       15  75.72296  36.76899  -38.95397    -0.5894   \n",
       "head_fair      903   240.836  80.56311  -160.2729   -7.25643   \n",
       "head_good       26  122.5109  64.56845  -57.94247  -2.704151   \n",
       "head_poor      265  405.3654  204.6335  -200.7319  -12.43844   \n",
       "headwaters      17    761980    158370    -603610  -100964.3   \n",
       "lrg_streams     24   7295250   4669500   -2625750   155710.2   \n",
       "sm_streams      14   1646585    260385   -1386200  -407688.9   \n",
       "wcrs1         2995   423.267  193.2158  -230.0512 -0.5078302   \n",
       "wcrs2          294  242.5144  160.8642  -81.65024  -1.945875   \n",
       "zero_streams     5   4138050   2524500   -1613550     100950   \n",
       "\n",
       "             Standard deviation      Varience        25%        50%       75%  \\\n",
       "cc_streams             461499.8   2.12982e+11     -17015     128220    341000   \n",
       "dhdz                    1.63927      2.687206 -0.2194727  0.4592053  1.506622   \n",
       "head_best              18.40258       338.655  -5.275362   1.724436  8.545752   \n",
       "head_fair              22.47088      504.9404  -17.06405  -4.727051  3.854425   \n",
       "head_good              24.82534      616.2975  -5.220712 -0.8452456  6.881475   \n",
       "head_poor              38.91341      1514.253  -25.36285  -8.068298  5.373901   \n",
       "headwaters             209480.1   4.38819e+10    -265935   -61098.5     54839   \n",
       "lrg_streams             1520234   2.31111e+12    -462850    -288950    459400   \n",
       "sm_streams             532287.2  2.833296e+11    -809075  -174962.5 -20046.25   \n",
       "wcrs1                  21.64913      468.6847  -7.247637  0.3458325   6.50047   \n",
       "wcrs2                  21.99508      483.7837  -10.33701 -0.7851672   7.90498   \n",
       "zero_streams            1667071  2.779127e+12   -1320150     333750    580200   \n",
       "\n",
       "             Max (absolute) Min (absolute)       MAE      RMSE  RMSE/range  \\\n",
       "cc_streams          1402350           7250  322764.6  468150.9   0.1874966   \n",
       "dhdz               3.061902     0.06978516  1.197105   1.64344    0.440549   \n",
       "head_best          38.95397       1.208159  12.58444  17.78835   0.2349136   \n",
       "head_fair          160.2729     0.03363037  16.17359  23.60163  0.09799876   \n",
       "head_good          64.56845      0.3562622  15.54417  24.49298   0.1999249   \n",
       "head_poor          204.6335     0.06878662   26.1597  40.78301    0.100608   \n",
       "headwaters           603610          11865    172552  226923.8   0.2978081   \n",
       "lrg_streams         4669500          95150  999835.2   1496349   0.2051127   \n",
       "sm_streams          1386200           3475  476406.8  655211.5   0.3979214   \n",
       "wcrs1              230.0512    0.001933594  12.08811  21.65147  0.05115322   \n",
       "wcrs2              160.8642     0.02245117  13.99378   22.0437  0.09089643   \n",
       "zero_streams        2524500         333750   1274430   1494487   0.3611574   \n",
       "\n",
       "             Normally Distributed       p-value  \n",
       "cc_streams                   True   0.002070555  \n",
       "dhdz                        False     0.6010302  \n",
       "head_best                   False     0.2145584  \n",
       "head_fair                    True  1.804073e-20  \n",
       "head_good                    True    0.00465009  \n",
       "head_poor                    True  1.264565e-13  \n",
       "headwaters                  False     0.2524266  \n",
       "lrg_streams                  True   0.006094412  \n",
       "sm_streams                  False      0.179482  \n",
       "wcrs1                        True             0  \n",
       "wcrs2                        True  1.822061e-15  \n",
       "zero_streams                False     0.5715624  "
      ]
     },
     "execution_count": 32,
     "metadata": {},
     "output_type": "execute_result"
    }
   ],
   "source": [
    "res.description"
   ]
  },
  {
   "cell_type": "code",
   "execution_count": 33,
   "metadata": {
    "collapsed": false
   },
   "outputs": [
    {
     "data": {
      "image/png": "[encoded data removed]",
      "text/plain": [
       "<matplotlib.figure.Figure at 0x10f36f1d0>"
      ]
     },
     "metadata": {},
     "output_type": "display_data"
    }
   ],
   "source": [
    "fig, axes = res.plot_hist(groupinfo=['head_best', 'head_good', 'head_fair', 'head_poor'], color='k')"
   ]
  },
  {
   "cell_type": "code",
   "execution_count": 35,
   "metadata": {
    "collapsed": false
   },
   "outputs": [
    {
     "data": {
      "image/png": "[encoded data removed]",
      "text/plain": [
       "<matplotlib.figure.Figure at 0x1106c53d0>"
      ]
     },
     "metadata": {},
     "output_type": "display_data"
    }
   ],
   "source": [
    "fig, ax = res.plot_one2one('WCRs1', print_stats=['Mean', 'MAE', 'RMSE'])"
   ]
  },
  {
   "cell_type": "code",
   "execution_count": 36,
   "metadata": {
    "collapsed": false
   },
   "outputs": [
    {
     "data": {
      "image/png": "[encoded data removed]",
      "text/plain": [
       "<matplotlib.figure.Figure at 0x10f364e50>"
      ]
     },
     "metadata": {},
     "output_type": "display_data"
    }
   ],
   "source": [
    "fig, ax = res.plot_hexbin(['head_fair', 'wcrs1'], title='Fair Heads', print_stats=['Mean', 'MAE', 'RMSE'])"
   ]
  },
  {
   "cell_type": "code",
   "execution_count": 39,
   "metadata": {
    "collapsed": false
   },
   "outputs": [
    {
     "name": "stderr",
     "output_type": "stream",
     "text": [
      "//anaconda/lib/python2.7/site-packages/pandas/core/frame.py:1321: FutureWarning: colSpace is deprecated, use col_space\n",
      "  FutureWarning)\n"
     ]
    }
   ],
   "source": [
    "res._Pest.pst.write('stuff.pst')"
   ]
  },
  {
   "cell_type": "code",
   "execution_count": null,
   "metadata": {
    "collapsed": true
   },
   "outputs": [],
   "source": []
  }
 ],
 "metadata": {
  "kernelspec": {
   "display_name": "Python 2",
   "language": "python",
   "name": "python2"
  },
  "language_info": {
   "codemirror_mode": {
    "name": "ipython",
    "version": 2
   },
   "file_extension": ".py",
   "mimetype": "text/x-python",
   "name": "python",
   "nbconvert_exporter": "python",
   "pygments_lexer": "ipython2",
   "version": "2.7.10"
  }
 },
 "nbformat": 4,
 "nbformat_minor": 0
}
