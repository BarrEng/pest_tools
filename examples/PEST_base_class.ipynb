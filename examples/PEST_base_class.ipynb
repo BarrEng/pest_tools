{
 "metadata": {
  "name": "",
  "signature": "sha256:b384b1787ce7c5d4458599b465facafacae8b76d5c1b3aa5bcf23147927be735"
 },
 "nbformat": 3,
 "nbformat_minor": 0,
 "worksheets": [
  {
   "cells": [
    {
     "cell_type": "markdown",
     "metadata": {},
     "source": [
      "###base class for PEST run:\n",
      "* reads run information from PEST control file\n",
      "* goal is to have something that can be inherited by other classes, similar to flopy base classes\n",
      "* could also add write method, which would write out a new PEST control file"
     ]
    },
    {
     "cell_type": "code",
     "collapsed": false,
     "input": [
      "import sys\n",
      "sys.path.append('../pst_tools')\n",
      "from pst import PESTbase\n",
      "cpest = PESTbase('columbia_opt5_13best', run_folder='../cc')\n",
      "cpest.read_pst()"
     ],
     "language": "python",
     "metadata": {},
     "outputs": [
      {
       "output_type": "stream",
       "stream": "stdout",
       "text": [
        "reading ../cc/columbia_opt5_13best.pst...\n",
        "control data...\n",
        "parameter groups...\n",
        "parameter data...\n",
        "observation groups..."
       ]
      },
      {
       "output_type": "stream",
       "stream": "stdout",
       "text": [
        "\n",
        "observation data...\n",
        "batch file..."
       ]
      },
      {
       "output_type": "stream",
       "stream": "stdout",
       "text": [
        "\n",
        "template and instruction files...\n",
        "prior information...\n",
        "regularisation...\n"
       ]
      }
     ],
     "prompt_number": 4
    },
    {
     "cell_type": "code",
     "collapsed": false,
     "input": [
      "import os\n",
      "import sys\n",
      "sys.path.append('../pst_tools')\n",
      "from res import Res\n",
      "from pst import PESTbase\n",
      "rei = Res('../cc/columbia_opt5_13best.rei')\n",
      "cpest = PESTbase('columbia_opt5_13best', run_folder='../cc')"
     ],
     "language": "python",
     "metadata": {},
     "outputs": [],
     "prompt_number": 2
    },
    {
     "cell_type": "code",
     "collapsed": false,
     "input": [
      "cpest.basename\n"
     ],
     "language": "python",
     "metadata": {},
     "outputs": [
      {
       "metadata": {},
       "output_type": "pyout",
       "prompt_number": 2,
       "text": [
        "'columbia_opt5_13best'"
       ]
      }
     ],
     "prompt_number": 2
    },
    {
     "cell_type": "code",
     "collapsed": false,
     "input": [
      "import numpy as np\n",
      "\n",
      "class Rei(PESTbase):\n",
      "    \"\"\"\n",
      "    Class for working with set of REI files from a PEST run\n",
      "    \n",
      "    ATL: Thinking that we could use this class to organize and perform operations specific to\n",
      "    multiple rei files, and then call Res() to operate on individual files (e.g. for statistics or a plot)\n",
      "    \"\"\"\n",
      "    \n",
      "    def __init__(self, basename, run_folder=None):\n",
      "\n",
      "        PESTbase.__init__(self, basename, run_folder)\n",
      "        \n",
      "        reifiles = [f for f in os.listdir(self.run_folder) if self.basename + '.rei' in f]\n",
      "        \n",
      "        # sort by iteration number (may not be the most elegant approach)\n",
      "        self.reifiles = {}\n",
      "        for f in reifiles:\n",
      "            try:\n",
      "                i = int(f.split('.')[-1])\n",
      "                self.reifiles[i] = os.path.join(self.run_folder, f)\n",
      "            except:\n",
      "                continue\n",
      "        \n",
      "    def add_locations(locfile=None, name_col='Name', x_col='X', y_col='Y'):\n",
      "        \"\"\"\n",
      "        Adds observation locations from a csv file\n",
      "        \"\"\"\n",
      "        # read in file with observation locations\n",
      "        self.loc = pd.read_csv(locfile)\n",
      "        self.loc.index = [n.lower() for n in self.loc[name_col]]\n",
      "\n",
      "        print 'joining observations in {} with {}'.format(locfile, reifile)\n",
      "        non_regul = [r.Name for i, r in self.df.iterrows() if 'regul_' not in r.Group]\n",
      "        self.df = self.loc.join(self.df[['Group','Measured', 'Modelled', 'Residual', 'Weight']], how='inner')\n",
      "\n",
      "        # check to see if any observations were dropped in the join\n",
      "        if len(non_regul) != len(self.df):\n",
      "            dropped = [o for o in non_regul if o not in self.df.Name]\n",
      "            for d in dropped:\n",
      "\n",
      "                print 'Warning, observation {} in reifile not found in {}!'.format(d, locfile)"
     ],
     "language": "python",
     "metadata": {},
     "outputs": [],
     "prompt_number": 37
    },
    {
     "cell_type": "code",
     "collapsed": false,
     "input": [
      "rei = Rei('columbia_svda', run_folder='../cc')\n",
      "rei.reifiles"
     ],
     "language": "python",
     "metadata": {},
     "outputs": [
      {
       "metadata": {},
       "output_type": "pyout",
       "prompt_number": 38,
       "text": [
        "{1: '../cc/columbia_svda.rei.1',\n",
        " 2: '../cc/columbia_svda.rei.2',\n",
        " 3: '../cc/columbia_svda.rei.3',\n",
        " 4: '../cc/columbia_svda.rei.4',\n",
        " 5: '../cc/columbia_svda.rei.5',\n",
        " 6: '../cc/columbia_svda.rei.6',\n",
        " 7: '../cc/columbia_svda.rei.7',\n",
        " 8: '../cc/columbia_svda.rei.8',\n",
        " 9: '../cc/columbia_svda.rei.9',\n",
        " 10: '../cc/columbia_svda.rei.10',\n",
        " 11: '../cc/columbia_svda.rei.11',\n",
        " 12: '../cc/columbia_svda.rei.12',\n",
        " 13: '../cc/columbia_svda.rei.13',\n",
        " 14: '../cc/columbia_svda.rei.14',\n",
        " 15: '../cc/columbia_svda.rei.15',\n",
        " 16: '../cc/columbia_svda.rei.16'}"
       ]
      }
     ],
     "prompt_number": 38
    },
    {
     "cell_type": "code",
     "collapsed": false,
     "input": [],
     "language": "python",
     "metadata": {},
     "outputs": []
    }
   ],
   "metadata": {}
  }
 ]
}