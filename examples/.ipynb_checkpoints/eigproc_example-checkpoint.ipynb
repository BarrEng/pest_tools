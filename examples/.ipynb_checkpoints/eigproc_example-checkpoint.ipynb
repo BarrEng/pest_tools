{
 "metadata": {
  "name": "",
  "signature": "sha256:29bf4d2877ee04654f8b5e2827cec74aac7bb60629e71b0135c0feeca01a2c04"
 },
 "nbformat": 3,
 "nbformat_minor": 0,
 "worksheets": [
  {
   "cells": [
    {
     "cell_type": "code",
     "collapsed": false,
     "input": [
      "import sys\n",
      "sys.path.append('../pst_tools')\n",
      "from matrices import Cor, Cov, Eig\n",
      "from parsen import ParSen\n",
      "\n",
      "%matplotlib inline\n",
      "import matplotlib.pyplot as plt\n",
      "plt.rcParams.update({'figure.figsize':[14,8]})"
     ],
     "language": "python",
     "metadata": {},
     "outputs": [],
     "prompt_number": 3
    },
    {
     "cell_type": "code",
     "collapsed": false,
     "input": [
      "eig = Eig('../cc/Columbia')\n",
      "cor = Cor('../cc/Columbia')\n",
      "parsen = ParSen('../cc/Columbia')"
     ],
     "language": "python",
     "metadata": {},
     "outputs": [],
     "prompt_number": 4
    },
    {
     "cell_type": "code",
     "collapsed": false,
     "input": [
      "eigproc_df, eigproc_cor = eig.eigproc(0.1, 1, cor=cor, parsen=parsen)"
     ],
     "language": "python",
     "metadata": {},
     "outputs": [
      {
       "metadata": {},
       "output_type": "pyout",
       "prompt_number": 5,
       "text": [
        "(         Eigenvector Component  Sensitivity Parameter Group\n",
        " wr_drnc               0.999304     0.000002        sfr_cond,\n",
        " <matrices.Cor at 0xce36f98>)"
       ]
      }
     ],
     "prompt_number": 5
    },
    {
     "cell_type": "code",
     "collapsed": false,
     "input": [],
     "language": "python",
     "metadata": {},
     "outputs": []
    }
   ],
   "metadata": {}
  }
 ]
}