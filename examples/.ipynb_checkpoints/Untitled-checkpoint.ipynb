{
 "cells": [
  {
   "cell_type": "markdown",
   "metadata": {},
   "source": [
    "The section of code is only for the notebook and note intended for publication in conference proceedings"
   ]
  },
  {
   "cell_type": "code",
   "execution_count": null,
   "metadata": {
    "collapsed": true
   },
   "outputs": [],
   "source": [
    "sys.path.append('../')\n",
    "import pestools as pt\n",
    "\n",
    "# Set options to allow for better display in the iPython notebook\n",
    "import matplotlib.pyplot as plt\n",
    "import pandas as pd\n",
    "% matplotlib inline\n",
    "plt.rcParams.update({'figure.figsize':[14,8]})\n",
    "pd.options.display.max_rows = 10"
   ]
  },
  {
   "cell_type": "markdown",
   "metadata": {},
   "source": [
    "<center>ABSTRACT</center>\n",
    "\n",
    "PESTools is an open-source Python package for processing and visualizing information associated \n",
    " with the parameter estimation software PEST.  While PEST output can be reformatted for post- \n",
    " processing in spreadsheets or other menu-driven software packages, this approach can be error-prone \n",
    " and time-consuming. Managing information from highly parameterized models with thousands of \n",
    "parameters and observations presents additional challenges. Pestools consists of a set of Python \n",
    "parameters and observations presents additional challenges. PESTools consists of a set of Python \n",
    " object classes to facilitate efficient processing and visualization of PEST-related information. \n",
    " Processing and visualization of observation residuals, objective function contributions, parameter and \n",
    " observation sensitivities, parameter correlation and identifiability, and other common PEST outputs \n",
    " have been implemented. The use of dataframe objects (pandas Python package) facilitates rapid \n",
    " slicing and querying of large datasets, as well as the incorporation of ancillary information such as \n",
    "observation locations and times and measurement types. Pestools’ object methods can be easily be \n",
    "observation locations and times and measurement types. PESTools’ object methods can be easily be \n",
    " scripted with concise code, or alternatively, the use of IPython notebooks allows for live interaction \n",
    "with the information. Pestools is designed to not only streamline workflows, but also provide deeper \n",
    "insight into model behavior, enhance troubleshooting, and improve transparency in the calibration \n",
    "with the information. PESTools is designed to not only streamline workflows, but also provide deeper \n",
    "insight into model behavior, enhance troubleshooting, and improve transparency in the calibration\n",
    "process."
   ]
  },
  {
   "cell_type": "markdown",
   "metadata": {},
   "source": [
    "<center>INTRODUCTION</center>\n",
    "\n",
    "\n",
    "In recent years the PEST software suite has become the industry standard for calibrating groundwater flow models and evaluating uncertainty in their predictions. PEST has many advantages, including the ability to robustly handle highly parameterized models with thousands of observations and parameters, as well as numerous  utility programs to perform ancillary analyses and facilitate use with popular modeling software such as MODFLOW. The use of PEST presents many challenges, however, especially in the highly parameterized context. Calibration of a highly parameterized model typically requires managing large volumes of information spread across numerous input and output files. This information can provide valuable insight to the modeler, but can be difficult or impossible to effectively visualize without custom programming. PESTools aims to provide a central platform for managing and visualizing this information, which minimizes the number of intermediate files and custom code required for parameter estimation workflows.\n"
   ]
  },
  {
   "cell_type": "markdown",
   "metadata": {},
   "source": [
    "<center>DEMONSTRATION</center>\n",
    "PESTools consists of a set of Python object classes to facilitate efficient processing and visualization of PEST-related information. Some of the cababilities of PESTools are presented below.\n",
    "+<table border=\"1\" class=\"dataframe\">  <thead>    <tr style=\"text-align: right;\">      <th></th>      <th>Group summary</th>    </tr>  </thead>  <tbody>    <tr>      <th>Mean</th>      <td>-2.704151</td>    </tr>    <tr>      <th>MAE</th>      <td> 15.54417</td>    </tr>    <tr>      <th>RMSE</th>      <td> 24.49298</td>    </tr>  </tbody></table>\n",
    "+**Table 1. with some stuff**  \n",
    "+some more stuff  \n",
    "+![a graph](examples/hexbin.pdf)  \n",
    "+**Figure 1. showing some stuff** "
   ]
  },
  {
   "cell_type": "code",
   "execution_count": null,
   "metadata": {
    "collapsed": true
   },
   "outputs": [],
   "source": []
  }
 ],
 "metadata": {
  "kernelspec": {
   "display_name": "Python 2",
   "language": "python",
   "name": "python2"
  },
  "language_info": {
   "codemirror_mode": {
    "name": "ipython",
    "version": 2
   },
   "file_extension": ".py",
   "mimetype": "text/x-python",
   "name": "python",
   "nbconvert_exporter": "python",
   "pygments_lexer": "ipython2",
   "version": "2.7.7"
  }
 },
 "nbformat": 4,
 "nbformat_minor": 0
}
