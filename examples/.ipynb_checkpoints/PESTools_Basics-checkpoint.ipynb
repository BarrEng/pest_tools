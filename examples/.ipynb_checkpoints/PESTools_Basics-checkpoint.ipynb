{
 "cells": [
  {
   "cell_type": "code",
   "execution_count": 1,
   "metadata": {
    "collapsed": false
   },
   "outputs": [],
   "source": [
    "import sys\n",
    "sys.path.append('../')\n",
    "import pestools as pt\n",
    "\n",
    "# Set options to allow for better display in the iPython notebook\n",
    "import matplotlib.pyplot as plt\n",
    "import pandas as pd\n",
    "% matplotlib inline\n",
    "plt.rcParams.update({'figure.figsize':[14,8]})\n",
    "pd.options.display.max_rows = 10"
   ]
  },
  {
   "cell_type": "markdown",
   "metadata": {},
   "source": [
    "<center>ABSTRACT</center>\n",
    "\n",
    "PESTools is an open-source Python package for processing and visualizing information associated with the parameter estimation software PEST. While PEST output can be reformatted for post- processing in spreadsheets or other menu-driven software packages, this approach can be error-prone and time-consuming. Managing information from highly parameterized models with thousands of parameters and observations presents additional challenges. Pestools consists of a set of Python parameters and observations presents additional challenges. PESTools consists of a set of Python object classes to facilitate efficient processing and visualization of PEST-related information. Processing and visualization of observation residuals, objective function contributions, parameter and observation sensitivities, parameter correlation and identifiability, and other common PEST outputs have been implemented. The use of dataframe objects (pandas Python package) facilitates rapid slicing and querying of large datasets, as well as the incorporation of ancillary information such as observation locations and times and measurement types. Pestools’ object methods can be easily be observation locations and times and measurement types. PESTools’ object methods can be easily be scripted with concise code, or alternatively, the use of IPython notebooks allows for live interaction with the information. Pestools is designed to not only streamline workflows, but also provide deeper insight into model behavior, enhance troubleshooting, and improve transparency in the calibration with the information. PESTools is designed to not only streamline workflows, but also provide deeper insight into model behavior, enhance troubleshooting, and improve transparency in the calibration process."
   ]
  },
  {
   "cell_type": "markdown",
   "metadata": {},
   "source": [
    "# Examples of working with Pest"
   ]
  },
  {
   "cell_type": "markdown",
   "metadata": {},
   "source": [
    "PESTools is designed with flexibility in mind. There are several ways to access and process data, allowing for both interactive exploration or more direct methods for processing only those information the user is interested in.\n",
    "\n",
    "At the top level of PESTools is the Pest class.  The Pest class input is the path and basename of the PEST run.  An file extention of .pst is assumed for the PEST control file and inclution is optional."
   ]
  },
  {
   "cell_type": "code",
   "execution_count": null,
   "metadata": {
    "collapsed": false
   },
   "outputs": [],
   "source": [
    "columbia = pt.Pest(r'../cc/Columbia')"
   ]
  },
  {
   "cell_type": "markdown",
   "metadata": {},
   "source": [
    "Once the Pest class is created is can be used to access nemerous PEST related inputs and outputs.  Many of the common datasets are exposed as attributs of the PEST class, most commly returned in the form of a Pandas dataframe.\n",
    "\n",
    "The parameter data and observation data sections of the PEST control file can be accessed using:"
   ]
  },
  {
   "cell_type": "code",
   "execution_count": null,
   "metadata": {
    "collapsed": false
   },
   "outputs": [],
   "source": [
    "columbia.parameter_data"
   ]
  },
  {
   "cell_type": "code",
   "execution_count": null,
   "metadata": {
    "collapsed": false
   },
   "outputs": [],
   "source": [
    "columbia.observation_data"
   ]
  },
  {
   "cell_type": "markdown",
   "metadata": {},
   "source": [
    "Other parts of the PEST control file information can be accessed through the pst subclass"
   ]
  },
  {
   "cell_type": "code",
   "execution_count": null,
   "metadata": {
    "collapsed": false
   },
   "outputs": [],
   "source": [
    "columbia.pst.prior_information"
   ]
  },
  {
   "cell_type": "code",
   "execution_count": null,
   "metadata": {
    "collapsed": false
   },
   "outputs": [],
   "source": [
    "columbia.pst.nobs"
   ]
  },
  {
   "cell_type": "markdown",
   "metadata": {},
   "source": [
    "Assuming that PEST has been run additional data are accessiable through the Pest class. The residual data are access with the res_df attribute"
   ]
  },
  {
   "cell_type": "code",
   "execution_count": null,
   "metadata": {
    "collapsed": false
   },
   "outputs": [],
   "source": [
    "columbia.res_df"
   ]
  },
  {
   "cell_type": "markdown",
   "metadata": {},
   "source": [
    "The jacobian matrix can be read into a DataFrame"
   ]
  },
  {
   "cell_type": "code",
   "execution_count": null,
   "metadata": {
    "collapsed": false
   },
   "outputs": [],
   "source": [
    "columbia.jco_df"
   ]
  },
  {
   "cell_type": "markdown",
   "metadata": {},
   "source": [
    "#Parameter Sensitivity"
   ]
  },
  {
   "cell_type": "markdown",
   "metadata": {},
   "source": [
    "PESTools uses the data from the Jacobian matrix and weights assigned by PEST to calculate the parameter sensitivity.  Convenently, there is no need to save or read in the parameter sensitivity file generated by PEST.\n",
    "\n",
    "There are several ways to generate the ParSen class; either directly from the Pest class or independantly by providing path and basename for a PEST run.\n"
   ]
  },
  {
   "cell_type": "code",
   "execution_count": null,
   "metadata": {
    "collapsed": false
   },
   "outputs": [],
   "source": [
    "parsen = pt.ParSen(r'../cc/Columbia', drop_regul = True)\n",
    "\n",
    "# Alternativly generate ParSen class from Pest class\n",
    "#parsen = columbia.parsen(drop_regul = True)"
   ]
  },
  {
   "cell_type": "markdown",
   "metadata": {},
   "source": [
    "Parameter sensitivity values can be access from the df attribute (df standing for DataFrame)."
   ]
  },
  {
   "cell_type": "code",
   "execution_count": null,
   "metadata": {
    "collapsed": false
   },
   "outputs": [],
   "source": [
    "parsen.df"
   ]
  },
  {
   "cell_type": "markdown",
   "metadata": {},
   "source": [
    "To access the most sensitive parameters use the head(n) method can be used, where n indicates the number to show.  Similarly, the tail(n) method can be used to show the least sensitive parameters."
   ]
  },
  {
   "cell_type": "code",
   "execution_count": null,
   "metadata": {
    "collapsed": false
   },
   "outputs": [],
   "source": [
    "parsen.head(10)"
   ]
  },
  {
   "cell_type": "code",
   "execution_count": null,
   "metadata": {
    "collapsed": false
   },
   "outputs": [],
   "source": [
    "parsen.tail(10)"
   ]
  },
  {
   "cell_type": "markdown",
   "metadata": {},
   "source": [
    "The parameter sensitivy of a single parameter is access with the par() method."
   ]
  },
  {
   "cell_type": "code",
   "execution_count": null,
   "metadata": {
    "collapsed": false
   },
   "outputs": [],
   "source": [
    "parsen.par('sfrc')"
   ]
  },
  {
   "cell_type": "markdown",
   "metadata": {},
   "source": [
    "The parameter sensitivites of a single group can be accessed using the group() method."
   ]
  },
  {
   "cell_type": "code",
   "execution_count": null,
   "metadata": {
    "collapsed": false
   },
   "outputs": [],
   "source": [
    "parsen.group('kp')"
   ]
  },
  {
   "cell_type": "markdown",
   "metadata": {},
   "source": [
    "The most sensitive parameters of the group is accessiable with an optional argument n.  Postive n will return the n most sensitive.  Negative n will return the n least sensitive parameters from the group."
   ]
  },
  {
   "cell_type": "code",
   "execution_count": null,
   "metadata": {
    "collapsed": false
   },
   "outputs": [],
   "source": [
    "parsen.group('kp', n=-5)"
   ]
  },
  {
   "cell_type": "markdown",
   "metadata": {},
   "source": [
    "The sum of all parameter sensitivies by group is accesses using the sum_group() method."
   ]
  },
  {
   "cell_type": "code",
   "execution_count": null,
   "metadata": {
    "collapsed": false
   },
   "outputs": [],
   "source": [
    "parsen.sum_group()"
   ]
  },
  {
   "cell_type": "markdown",
   "metadata": {},
   "source": [
    "The ParSen class can be used to recalculate parameter sensitivies with individial observation or groups of observations removed.  This can be useful for removeing regularization information or drilling down to look at which parameters are most sensitive to individual observations or groups of observations."
   ]
  },
  {
   "cell_type": "code",
   "execution_count": null,
   "metadata": {
    "collapsed": false
   },
   "outputs": [],
   "source": [
    "parsen.plot(30)\n"
   ]
  },
  {
   "cell_type": "markdown",
   "metadata": {},
   "source": [
    "### Plot the most sensitive parameter for a single group"
   ]
  },
  {
   "cell_type": "code",
   "execution_count": null,
   "metadata": {
    "collapsed": false
   },
   "outputs": [],
   "source": [
    "parsen.plot(n=30, group = 'kp')"
   ]
  },
  {
   "cell_type": "markdown",
   "metadata": {},
   "source": [
    "\n",
    "The ParSen class can be used to recalculate parameter sensitivies with individial observation or groups of observations removed. This can be useful for removeing regularization information or drilling down to look at which parameters are most sensitive to individual observations or groups of observations"
   ]
  },
  {
   "cell_type": "markdown",
   "metadata": {},
   "source": [
    "### Alternative lables can be defined with a dictionary."
   ]
  },
  {
   "cell_type": "code",
   "execution_count": null,
   "metadata": {
    "collapsed": false
   },
   "outputs": [],
   "source": [
    "alt_labels = {'r_col' : 'Full Parameter Description1', 'kh_cr' : 'K of the something'}\n",
    "parsen.plot(n = 30, alt_labels = alt_labels)"
   ]
  },
  {
   "cell_type": "markdown",
   "metadata": {},
   "source": [
    "### Plot the sum of sensitivity by group"
   ]
  },
  {
   "cell_type": "code",
   "execution_count": null,
   "metadata": {
    "collapsed": false
   },
   "outputs": [],
   "source": [
    "parsen.plot_sum_group()"
   ]
  },
  {
   "cell_type": "markdown",
   "metadata": {},
   "source": [
    "### Use alternative group names and change the color"
   ]
  },
  {
   "cell_type": "code",
   "execution_count": null,
   "metadata": {
    "collapsed": false
   },
   "outputs": [],
   "source": [
    "alt_labels = {'sfr_cond' : 'Stream Conductance', 'rech' : 'Recharge', 'kz' : 'Vertical K', 'Kp' : 'Hydraulic Conductivity'}\n",
    "parsen.plot_sum_group(alt_labels = alt_labels, color = \"DarkGray\")"
   ]
  },
  {
   "cell_type": "markdown",
   "metadata": {},
   "source": [
    "### Plot the mean of sensitivity of group"
   ]
  },
  {
   "cell_type": "code",
   "execution_count": null,
   "metadata": {
    "collapsed": false
   },
   "outputs": [],
   "source": [
    "parsen.plot_mean_group(alt_labels = alt_labels, color = 'LightGreen', linewidth = 0.0)"
   ]
  },
  {
   "cell_type": "markdown",
   "metadata": {},
   "source": [
    "### plot() method uses the 'Set2' cmap by default to get colors for different groups.  A different cmap can be used"
   ]
  },
  {
   "cell_type": "code",
   "execution_count": null,
   "metadata": {
    "collapsed": false
   },
   "outputs": [],
   "source": [
    "parsen.plot(n=30, cmap = 'jet')"
   ]
  },
  {
   "cell_type": "markdown",
   "metadata": {},
   "source": [
    "### You can also use a dictionary with group names yp set colors for groups"
   ]
  },
  {
   "cell_type": "code",
   "execution_count": null,
   "metadata": {
    "collapsed": false
   },
   "outputs": [],
   "source": [
    "color_dict = {'kz': (0.89411765336990356, 0.10196078568696976, 0.10980392247438431, 1.0), 'kp': 'g', 'sfr_cond' : 'b',\n",
    "              'rech' : 'k'}\n",
    "parsen.plot(n=20, color_dict = color_dict)"
   ]
  },
  {
   "cell_type": "markdown",
   "metadata": {},
   "source": [
    "###### exclude observation groups"
   ]
  },
  {
   "cell_type": "code",
   "execution_count": null,
   "metadata": {
    "collapsed": false
   },
   "outputs": [],
   "source": [
    "parsen.drop_groups(['head_poor', 'WCRs1'])\n",
    "parsen.plot(n=20)"
   ]
  },
  {
   "cell_type": "markdown",
   "metadata": {},
   "source": [
    "###### only keep one or a few groups"
   ]
  },
  {
   "cell_type": "code",
   "execution_count": null,
   "metadata": {
    "collapsed": false
   },
   "outputs": [],
   "source": [
    "parsen.keep_groups(['cc_streams'])\n",
    "parsen.plot(n=20)"
   ]
  },
  {
   "cell_type": "markdown",
   "metadata": {},
   "source": [
    "# Cor Class"
   ]
  },
  {
   "cell_type": "code",
   "execution_count": null,
   "metadata": {
    "collapsed": false
   },
   "outputs": [],
   "source": [
    "cor = columbia.cor"
   ]
  },
  {
   "cell_type": "code",
   "execution_count": null,
   "metadata": {
    "collapsed": false
   },
   "outputs": [],
   "source": [
    "cor.df"
   ]
  },
  {
   "cell_type": "code",
   "execution_count": null,
   "metadata": {
    "collapsed": false
   },
   "outputs": [],
   "source": [
    "cor.plot_heatmap(label_rows=False, label_cols=False)"
   ]
  },
  {
   "cell_type": "code",
   "execution_count": null,
   "metadata": {
    "collapsed": false
   },
   "outputs": [],
   "source": [
    "import seaborn\n",
    "\n",
    "smaller_matrix = cor.pars(['kpkpx_tc2', 'kpkpx_tc34', 'kpkpx_ww60', 'kpkpx_ms14', 'kv_w', 'wr_drnc', 'kv_lo', 'sfrc', 'r_col'])\n",
    "seaborn.heatmap(smaller_matrix)"
   ]
  },
  {
   "cell_type": "code",
   "execution_count": null,
   "metadata": {
    "collapsed": true
   },
   "outputs": [],
   "source": []
  }
 ],
 "metadata": {
  "kernelspec": {
   "display_name": "Python 2",
   "language": "python",
   "name": "python2"
  },
  "language_info": {
   "codemirror_mode": {
    "name": "ipython",
    "version": 2
   },
   "file_extension": ".py",
   "mimetype": "text/x-python",
   "name": "python",
   "nbconvert_exporter": "python",
   "pygments_lexer": "ipython2",
   "version": "2.7.7"
  }
 },
 "nbformat": 4,
 "nbformat_minor": 0
}
