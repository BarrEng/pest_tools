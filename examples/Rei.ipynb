{
 "metadata": {
  "name": "",
  "signature": "sha256:5fa091aa51da77f9e714016c91487527c0f457489e9eec7250f71ba949b5ff56"
 },
 "nbformat": 3,
 "nbformat_minor": 0,
 "worksheets": [
  {
   "cells": [
    {
     "cell_type": "markdown",
     "metadata": {},
     "source": [
      "###Plot group of rei files from successive PEST iterations"
     ]
    },
    {
     "cell_type": "code",
     "collapsed": false,
     "input": [
      "import sys\n",
      "sys.path.append('../pst_tools')\n",
      "from res import *\n",
      "\n",
      "import numpy as np\n",
      "\n",
      "rei = Rei('../cc/columbia_svda')\n",
      "rei.reifiles"
     ],
     "language": "python",
     "metadata": {},
     "outputs": [
      {
       "metadata": {},
       "output_type": "pyout",
       "prompt_number": 30,
       "text": [
        "{1: '../cc/columbia_svda.rei.1',\n",
        " 2: '../cc/columbia_svda.rei.2',\n",
        " 3: '../cc/columbia_svda.rei.3',\n",
        " 4: '../cc/columbia_svda.rei.4',\n",
        " 5: '../cc/columbia_svda.rei.5',\n",
        " 6: '../cc/columbia_svda.rei.6',\n",
        " 7: '../cc/columbia_svda.rei.7',\n",
        " 8: '../cc/columbia_svda.rei.8',\n",
        " 9: '../cc/columbia_svda.rei.9',\n",
        " 10: '../cc/columbia_svda.rei.10',\n",
        " 11: '../cc/columbia_svda.rei.11',\n",
        " 12: '../cc/columbia_svda.rei.12',\n",
        " 13: '../cc/columbia_svda.rei.13',\n",
        " 14: '../cc/columbia_svda.rei.14',\n",
        " 15: '../cc/columbia_svda.rei.15',\n",
        " 16: '../cc/columbia_svda.rei.16'}"
       ]
      }
     ],
     "prompt_number": 30
    },
    {
     "cell_type": "code",
     "collapsed": false,
     "input": [
      "rei.one2one_plots('wcrs1')"
     ],
     "language": "python",
     "metadata": {},
     "outputs": [
      {
       "output_type": "stream",
       "stream": "stdout",
       "text": [
        "plotting...\n",
        "../cc/columbia_svda.rei.1\n",
        "../cc/columbia_svda.rei.2"
       ]
      },
      {
       "output_type": "stream",
       "stream": "stdout",
       "text": [
        "\n",
        "../cc/columbia_svda.rei.3"
       ]
      },
      {
       "output_type": "stream",
       "stream": "stdout",
       "text": [
        "\n",
        "../cc/columbia_svda.rei.4"
       ]
      },
      {
       "output_type": "stream",
       "stream": "stdout",
       "text": [
        "\n",
        "../cc/columbia_svda.rei.5"
       ]
      },
      {
       "output_type": "stream",
       "stream": "stdout",
       "text": [
        "\n",
        "../cc/columbia_svda.rei.6"
       ]
      },
      {
       "output_type": "stream",
       "stream": "stdout",
       "text": [
        "\n",
        "../cc/columbia_svda.rei.7"
       ]
      },
      {
       "output_type": "stream",
       "stream": "stdout",
       "text": [
        "\n",
        "../cc/columbia_svda.rei.8"
       ]
      },
      {
       "output_type": "stream",
       "stream": "stdout",
       "text": [
        "\n",
        "../cc/columbia_svda.rei.9"
       ]
      },
      {
       "output_type": "stream",
       "stream": "stdout",
       "text": [
        "\n",
        "../cc/columbia_svda.rei.10"
       ]
      },
      {
       "output_type": "stream",
       "stream": "stdout",
       "text": [
        "\n",
        "../cc/columbia_svda.rei.11"
       ]
      },
      {
       "output_type": "stream",
       "stream": "stdout",
       "text": [
        "\n",
        "../cc/columbia_svda.rei.12"
       ]
      },
      {
       "output_type": "stream",
       "stream": "stdout",
       "text": [
        "\n",
        "../cc/columbia_svda.rei.13"
       ]
      },
      {
       "output_type": "stream",
       "stream": "stdout",
       "text": [
        "\n",
        "../cc/columbia_svda.rei.14"
       ]
      },
      {
       "output_type": "stream",
       "stream": "stdout",
       "text": [
        "\n",
        "../cc/columbia_svda.rei.15"
       ]
      },
      {
       "output_type": "stream",
       "stream": "stdout",
       "text": [
        "\n",
        "../cc/columbia_svda.rei.16"
       ]
      },
      {
       "output_type": "stream",
       "stream": "stdout",
       "text": [
        "\n",
        "\n",
        "saved to columbia_svda_reis.pdf"
       ]
      },
      {
       "output_type": "stream",
       "stream": "stdout",
       "text": [
        "\n"
       ]
      }
     ],
     "prompt_number": 31
    },
    {
     "cell_type": "code",
     "collapsed": false,
     "input": [],
     "language": "python",
     "metadata": {},
     "outputs": []
    }
   ],
   "metadata": {}
  }
 ]
}