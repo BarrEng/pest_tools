{
 "metadata": {
  "name": "",
  "signature": "sha256:98817c0a68878de266989e6ff97354aa0ddc298ed7ceb8576a8fd8ce17d8fa2b"
 },
 "nbformat": 3,
 "nbformat_minor": 0,
 "worksheets": [
  {
   "cells": [
    {
     "cell_type": "markdown",
     "metadata": {},
     "source": [
      "###REI class for working with sets of REI files from a PEST run\n",
      "Goal is to facilitate tracking of changes in residuals over successive iterations  \n",
      "\n",
      "* planning to add a plotting method where all aspects (group names, marker characteristics, etc.) can be customized to produce report-quality figures"
     ]
    },
    {
     "cell_type": "code",
     "collapsed": false,
     "input": [
      "import sys\n",
      "sys.path.append('../pst_tools')\n",
      "from pst import *\n",
      "from res import *\n",
      "from matplotlib.backends.backend_pdf import PdfPages\n",
      "\n",
      "import numpy as np\n",
      "\n",
      "class Rei(Pest):\n",
      "    \"\"\"\n",
      "    Class for working with set of REI files from a PEST run\n",
      "    \n",
      "    ATL: Thinking that we could use this class to organize and perform operations specific to\n",
      "    multiple rei files, and then call Res() to operate on individual files (e.g. for statistics or a plot)\n",
      "    \"\"\"\n",
      "    \n",
      "    def __init__(self, basename):\n",
      "\n",
      "        Pest.__init__(self, basename)\n",
      "        \n",
      "        reifiles = [f for f in os.listdir(self.run_folder) if self.basename + '.rei' in f]\n",
      "        \n",
      "        # sort by iteration number (may not be the most elegant approach)\n",
      "        self.reifiles = {}\n",
      "        for f in reifiles:\n",
      "            try:\n",
      "                i = int(f.split('.')[-1])\n",
      "                self.reifiles[i] = os.path.join(self.run_folder, f)\n",
      "            except:\n",
      "                continue\n",
      "                \n",
      "                \n",
      "    def one2one_plots(self, groupinfo, outpdf='', **kwds):\n",
      "\n",
      "        if len(outpdf) == 0:\n",
      "            outpdf = self.basename + '_reis.pdf'\n",
      "        \n",
      "        print 'plotting...'\n",
      "        pdf = PdfPages(outpdf)\n",
      "        for i in self.reifiles.iterkeys():\n",
      "            print '{}'.format(self.reifiles[i])\n",
      "            r = Res(self.reifiles[i])\n",
      "            fig, ax = r.one2one_plot(groupinfo, **kwds)\n",
      "            \n",
      "            pdf.savefig(fig, **kwds)\n",
      "        print '\\nsaved to {}'.format(outpdf)\n",
      "        pdf.close()\n",
      "    \n",
      "    \n",
      "    "
     ],
     "language": "python",
     "metadata": {},
     "outputs": [],
     "prompt_number": 27
    },
    {
     "cell_type": "code",
     "collapsed": false,
     "input": [
      "rei = Rei('../cc/columbia_svda')\n",
      "rei.reifiles"
     ],
     "language": "python",
     "metadata": {},
     "outputs": [
      {
       "metadata": {},
       "output_type": "pyout",
       "prompt_number": 28,
       "text": [
        "{1: '../cc/columbia_svda.rei.1',\n",
        " 2: '../cc/columbia_svda.rei.2',\n",
        " 3: '../cc/columbia_svda.rei.3',\n",
        " 4: '../cc/columbia_svda.rei.4',\n",
        " 5: '../cc/columbia_svda.rei.5',\n",
        " 6: '../cc/columbia_svda.rei.6',\n",
        " 7: '../cc/columbia_svda.rei.7',\n",
        " 8: '../cc/columbia_svda.rei.8',\n",
        " 9: '../cc/columbia_svda.rei.9',\n",
        " 10: '../cc/columbia_svda.rei.10',\n",
        " 11: '../cc/columbia_svda.rei.11',\n",
        " 12: '../cc/columbia_svda.rei.12',\n",
        " 13: '../cc/columbia_svda.rei.13',\n",
        " 14: '../cc/columbia_svda.rei.14',\n",
        " 15: '../cc/columbia_svda.rei.15',\n",
        " 16: '../cc/columbia_svda.rei.16'}"
       ]
      }
     ],
     "prompt_number": 28
    },
    {
     "cell_type": "code",
     "collapsed": false,
     "input": [
      "rei.one2one_plots('wcrs1')"
     ],
     "language": "python",
     "metadata": {},
     "outputs": [
      {
       "output_type": "stream",
       "stream": "stdout",
       "text": [
        "plotting...\n",
        "../cc/columbia_svda.rei.1\n",
        "../cc/columbia_svda.rei.2"
       ]
      },
      {
       "output_type": "stream",
       "stream": "stdout",
       "text": [
        "\n",
        "../cc/columbia_svda.rei.3"
       ]
      },
      {
       "output_type": "stream",
       "stream": "stdout",
       "text": [
        "\n",
        "../cc/columbia_svda.rei.4"
       ]
      },
      {
       "output_type": "stream",
       "stream": "stdout",
       "text": [
        "\n",
        "../cc/columbia_svda.rei.5"
       ]
      },
      {
       "output_type": "stream",
       "stream": "stdout",
       "text": [
        "\n",
        "../cc/columbia_svda.rei.6"
       ]
      },
      {
       "output_type": "stream",
       "stream": "stdout",
       "text": [
        "\n",
        "../cc/columbia_svda.rei.7"
       ]
      },
      {
       "output_type": "stream",
       "stream": "stdout",
       "text": [
        "\n",
        "../cc/columbia_svda.rei.8"
       ]
      },
      {
       "output_type": "stream",
       "stream": "stdout",
       "text": [
        "\n",
        "../cc/columbia_svda.rei.9"
       ]
      },
      {
       "output_type": "stream",
       "stream": "stdout",
       "text": [
        "\n",
        "../cc/columbia_svda.rei.10"
       ]
      },
      {
       "output_type": "stream",
       "stream": "stdout",
       "text": [
        "\n",
        "../cc/columbia_svda.rei.11"
       ]
      },
      {
       "output_type": "stream",
       "stream": "stdout",
       "text": [
        "\n",
        "../cc/columbia_svda.rei.12"
       ]
      },
      {
       "output_type": "stream",
       "stream": "stdout",
       "text": [
        "\n",
        "../cc/columbia_svda.rei.13"
       ]
      },
      {
       "output_type": "stream",
       "stream": "stdout",
       "text": [
        "\n",
        "../cc/columbia_svda.rei.14"
       ]
      },
      {
       "output_type": "stream",
       "stream": "stdout",
       "text": [
        "\n",
        "../cc/columbia_svda.rei.15"
       ]
      },
      {
       "output_type": "stream",
       "stream": "stdout",
       "text": [
        "\n",
        "../cc/columbia_svda.rei.16"
       ]
      },
      {
       "output_type": "stream",
       "stream": "stdout",
       "text": [
        "\n",
        "\n",
        "saved to columbia_svda_reis.pdf"
       ]
      },
      {
       "output_type": "stream",
       "stream": "stdout",
       "text": [
        "\n"
       ]
      }
     ],
     "prompt_number": 29
    },
    {
     "cell_type": "code",
     "collapsed": false,
     "input": [],
     "language": "python",
     "metadata": {},
     "outputs": []
    }
   ],
   "metadata": {}
  }
 ]
}