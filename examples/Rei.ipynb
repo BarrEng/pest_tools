{
 "metadata": {
  "name": "",
  "signature": "sha256:ea440786cb35c0fbeab940a01b136b8e8c3bd85d3eab4132cad49f0fbca89b77"
 },
 "nbformat": 3,
 "nbformat_minor": 0,
 "worksheets": [
  {
   "cells": [
    {
     "cell_type": "markdown",
     "metadata": {},
     "source": [
      "###REI class for working with sets of REI files from a PEST run\n",
      "Goal is to facilitate tracking of changes in residuals over successive iterations  \n",
      "\n",
      "* planning to add a plotting method where all aspects (group names, marker characteristics, etc.) can be customized to produce report-quality figures"
     ]
    },
    {
     "cell_type": "code",
     "collapsed": false,
     "input": [
      "import sys\n",
      "sys.path.append('../pst_tools')\n",
      "from pst import *\n",
      "\n",
      "import numpy as np\n",
      "\n",
      "class Rei(Pest):\n",
      "    \"\"\"\n",
      "    Class for working with set of REI files from a PEST run\n",
      "    \n",
      "    ATL: Thinking that we could use this class to organize and perform operations specific to\n",
      "    multiple rei files, and then call Res() to operate on individual files (e.g. for statistics or a plot)\n",
      "    \"\"\"\n",
      "    \n",
      "    def __init__(self, basename, run_folder=None):\n",
      "\n",
      "        Pest.__init__(self, basename, run_folder)\n",
      "        \n",
      "        reifiles = [f for f in os.listdir(self.run_folder) if self.basename + '.rei' in f]\n",
      "        \n",
      "        # sort by iteration number (may not be the most elegant approach)\n",
      "        self.reifiles = {}\n",
      "        for f in reifiles:\n",
      "            try:\n",
      "                i = int(f.split('.')[-1])\n",
      "                self.reifiles[i] = os.path.join(self.run_folder, f)\n",
      "            except:\n",
      "                continue\n",
      "        \n",
      "    def add_locations(locfile=None, name_col='Name', x_col='X', y_col='Y'):\n",
      "        \"\"\"\n",
      "        Adds observation locations from a csv file\n",
      "        \"\"\"\n",
      "        # read in file with observation locations\n",
      "        self.loc = pd.read_csv(locfile)\n",
      "        self.loc.index = [n.lower() for n in self.loc[name_col]]\n",
      "\n",
      "        print 'joining observations in {} with {}'.format(locfile, reifile)\n",
      "        non_regul = [r.Name for i, r in self.df.iterrows() if 'regul_' not in r.Group]\n",
      "        self.df = self.loc.join(self.df[['Group','Measured', 'Modelled', 'Residual', 'Weight']], how='inner')\n",
      "\n",
      "        # check to see if any observations were dropped in the join\n",
      "        if len(non_regul) != len(self.df):\n",
      "            dropped = [o for o in non_regul if o not in self.df.Name]\n",
      "            for d in dropped:\n",
      "\n",
      "                print 'Warning, observation {} in reifile not found in {}!'.format(d, locfile)"
     ],
     "language": "python",
     "metadata": {},
     "outputs": [
      {
       "ename": "NameError",
       "evalue": "name 'Pest' is not defined",
       "output_type": "pyerr",
       "traceback": [
        "\u001b[0;31m---------------------------------------------------------------------------\u001b[0m\n\u001b[0;31mNameError\u001b[0m                                 Traceback (most recent call last)",
        "\u001b[0;32m<ipython-input-1-15f83d5da443>\u001b[0m in \u001b[0;36m<module>\u001b[0;34m()\u001b[0m\n\u001b[1;32m      1\u001b[0m \u001b[0;32mimport\u001b[0m \u001b[0msys\u001b[0m\u001b[0;34m\u001b[0m\u001b[0m\n\u001b[1;32m      2\u001b[0m \u001b[0msys\u001b[0m\u001b[0;34m.\u001b[0m\u001b[0mpath\u001b[0m\u001b[0;34m.\u001b[0m\u001b[0mappend\u001b[0m\u001b[0;34m(\u001b[0m\u001b[0;34m'../pst_tools'\u001b[0m\u001b[0;34m)\u001b[0m\u001b[0;34m\u001b[0m\u001b[0m\n\u001b[0;32m----> 3\u001b[0;31m \u001b[0;32mfrom\u001b[0m \u001b[0mpst\u001b[0m \u001b[0;32mimport\u001b[0m \u001b[0;34m*\u001b[0m\u001b[0;34m\u001b[0m\u001b[0m\n\u001b[0m\u001b[1;32m      4\u001b[0m \u001b[0;34m\u001b[0m\u001b[0m\n\u001b[1;32m      5\u001b[0m \u001b[0;32mimport\u001b[0m \u001b[0mnumpy\u001b[0m \u001b[0;32mas\u001b[0m \u001b[0mnp\u001b[0m\u001b[0;34m\u001b[0m\u001b[0m\n",
        "\u001b[0;32m/Users/aleaf/Documents/GitHub/pest_tools-1/pst_tools/pst.py\u001b[0m in \u001b[0;36m<module>\u001b[0;34m()\u001b[0m\n\u001b[1;32m      5\u001b[0m \u001b[0;32mimport\u001b[0m \u001b[0mnumpy\u001b[0m \u001b[0;32mas\u001b[0m \u001b[0mnp\u001b[0m\u001b[0;34m\u001b[0m\u001b[0m\n\u001b[1;32m      6\u001b[0m \u001b[0;32mimport\u001b[0m \u001b[0mpandas\u001b[0m \u001b[0;32mas\u001b[0m \u001b[0mpd\u001b[0m\u001b[0;34m\u001b[0m\u001b[0m\n\u001b[0;32m----> 7\u001b[0;31m \u001b[0;32mimport\u001b[0m \u001b[0mObs\u001b[0m\u001b[0;34m\u001b[0m\u001b[0m\n\u001b[0m\u001b[1;32m      8\u001b[0m \u001b[0;34m\u001b[0m\u001b[0m\n\u001b[1;32m      9\u001b[0m \u001b[0;34m\u001b[0m\u001b[0m\n",
        "\u001b[0;32m/Users/aleaf/Documents/GitHub/pest_tools-1/pst_tools/Obs.py\u001b[0m in \u001b[0;36m<module>\u001b[0;34m()\u001b[0m\n\u001b[1;32m      7\u001b[0m \u001b[0;32mimport\u001b[0m \u001b[0mnumpy\u001b[0m \u001b[0;32mas\u001b[0m \u001b[0mnp\u001b[0m\u001b[0;34m\u001b[0m\u001b[0m\n\u001b[1;32m      8\u001b[0m \u001b[0;34m\u001b[0m\u001b[0m\n\u001b[0;32m----> 9\u001b[0;31m \u001b[0;32mclass\u001b[0m \u001b[0mObs\u001b[0m\u001b[0;34m(\u001b[0m\u001b[0mPest\u001b[0m\u001b[0;34m)\u001b[0m\u001b[0;34m:\u001b[0m\u001b[0;34m\u001b[0m\u001b[0m\n\u001b[0m\u001b[1;32m     10\u001b[0m     \"\"\"\n\u001b[1;32m     11\u001b[0m     \u001b[0mClass\u001b[0m \u001b[0;32mfor\u001b[0m \u001b[0mworking\u001b[0m \u001b[0;32mwith\u001b[0m \u001b[0mobservations\u001b[0m\u001b[0;34m\u001b[0m\u001b[0m\n",
        "\u001b[0;31mNameError\u001b[0m: name 'Pest' is not defined"
       ]
      }
     ],
     "prompt_number": 1
    },
    {
     "cell_type": "code",
     "collapsed": false,
     "input": [
      "rei = Rei('columbia_svda', run_folder='../cc')\n",
      "rei.reifiles"
     ],
     "language": "python",
     "metadata": {},
     "outputs": [
      {
       "ename": "NameError",
       "evalue": "name 'Rei' is not defined",
       "output_type": "pyerr",
       "traceback": [
        "\u001b[0;31m---------------------------------------------------------------------------\u001b[0m\n\u001b[0;31mNameError\u001b[0m                                 Traceback (most recent call last)",
        "\u001b[0;32m<ipython-input-2-b1c713c4bcfd>\u001b[0m in \u001b[0;36m<module>\u001b[0;34m()\u001b[0m\n\u001b[0;32m----> 1\u001b[0;31m \u001b[0mrei\u001b[0m \u001b[0;34m=\u001b[0m \u001b[0mRei\u001b[0m\u001b[0;34m(\u001b[0m\u001b[0;34m'columbia_svda'\u001b[0m\u001b[0;34m,\u001b[0m \u001b[0mrun_folder\u001b[0m\u001b[0;34m=\u001b[0m\u001b[0;34m'../cc'\u001b[0m\u001b[0;34m)\u001b[0m\u001b[0;34m\u001b[0m\u001b[0m\n\u001b[0m\u001b[1;32m      2\u001b[0m \u001b[0mrei\u001b[0m\u001b[0;34m.\u001b[0m\u001b[0mreifiles\u001b[0m\u001b[0;34m\u001b[0m\u001b[0m\n",
        "\u001b[0;31mNameError\u001b[0m: name 'Rei' is not defined"
       ]
      }
     ],
     "prompt_number": 2
    },
    {
     "cell_type": "code",
     "collapsed": false,
     "input": [],
     "language": "python",
     "metadata": {},
     "outputs": []
    }
   ],
   "metadata": {}
  }
 ]
}