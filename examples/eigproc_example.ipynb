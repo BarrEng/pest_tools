{
 "metadata": {
  "name": "",
  "signature": "sha256:a8f78fd5eb5d831ccf190a141a6c3954b38b21a149d74e69108b82b42c86dba2"
 },
 "nbformat": 3,
 "nbformat_minor": 0,
 "worksheets": [
  {
   "cells": [
    {
     "cell_type": "code",
     "collapsed": false,
     "input": [
      "import sys\n",
      "sys.path.append('../pst_tools')\n",
      "from matrices import Cor, Cov, Eig\n",
      "from parsen import ParSen\n",
      "\n",
      "%matplotlib inline\n",
      "import matplotlib.pyplot as plt\n",
      "plt.rcParams.update({'figure.figsize':[14,8]})"
     ],
     "language": "python",
     "metadata": {},
     "outputs": [],
     "prompt_number": 1
    },
    {
     "cell_type": "code",
     "collapsed": false,
     "input": [
      "eig = Eig('../cc/Columbia')\n",
      "cor = Cor('../cc/Columbia')\n",
      "parsen = ParSen('../cc/Columbia')\n"
     ],
     "language": "python",
     "metadata": {},
     "outputs": [],
     "prompt_number": 2
    },
    {
     "cell_type": "markdown",
     "metadata": {},
     "source": [
      "A method of the Eig class is eigproc().  This method does the functionality of the PEST utility EIGRPROC"
     ]
    },
    {
     "cell_type": "code",
     "collapsed": false,
     "input": [
      "eigproc_df, eigenvalue, eigproc_cor = eig.eigproc(0.1, 5, cor=cor, parsen=parsen)"
     ],
     "language": "python",
     "metadata": {},
     "outputs": [],
     "prompt_number": 4
    },
    {
     "cell_type": "code",
     "collapsed": false,
     "input": [
      "eigproc_df"
     ],
     "language": "python",
     "metadata": {},
     "outputs": [
      {
       "html": [
        "<div style=\"max-height:1000px;max-width:1500px;overflow:auto;\">\n",
        "<table border=\"1\" class=\"dataframe\">\n",
        "  <thead>\n",
        "    <tr style=\"text-align: right;\">\n",
        "      <th></th>\n",
        "      <th>Eigenvector Component</th>\n",
        "      <th>Sensitivity</th>\n",
        "      <th>Parameter Group</th>\n",
        "    </tr>\n",
        "  </thead>\n",
        "  <tbody>\n",
        "    <tr>\n",
        "      <th>ro2</th>\n",
        "      <td> 0.552733</td>\n",
        "      <td> 1.914405</td>\n",
        "      <td>  ro</td>\n",
        "    </tr>\n",
        "    <tr>\n",
        "      <th>ro1</th>\n",
        "      <td> 0.487171</td>\n",
        "      <td> 1.836146</td>\n",
        "      <td>  ro</td>\n",
        "    </tr>\n",
        "    <tr>\n",
        "      <th>h1</th>\n",
        "      <td> 0.481179</td>\n",
        "      <td> 1.817096</td>\n",
        "      <td> hhh</td>\n",
        "    </tr>\n",
        "    <tr>\n",
        "      <th>h2</th>\n",
        "      <td> 0.473360</td>\n",
        "      <td> 1.807584</td>\n",
        "      <td> hhh</td>\n",
        "    </tr>\n",
        "  </tbody>\n",
        "</table>\n",
        "</div>"
       ],
       "metadata": {},
       "output_type": "pyout",
       "prompt_number": 5,
       "text": [
        "     Eigenvector Component  Sensitivity Parameter Group\n",
        "ro2               0.552733     1.914405              ro\n",
        "ro1               0.487171     1.836146              ro\n",
        "h1                0.481179     1.817096             hhh\n",
        "h2                0.473360     1.807584             hhh"
       ]
      }
     ],
     "prompt_number": 5
    },
    {
     "cell_type": "code",
     "collapsed": false,
     "input": [
      "eigenvalue"
     ],
     "language": "python",
     "metadata": {},
     "outputs": [
      {
       "metadata": {},
       "output_type": "pyout",
       "prompt_number": 7,
       "text": [
        "4.7420089959004122e-12"
       ]
      }
     ],
     "prompt_number": 7
    },
    {
     "cell_type": "code",
     "collapsed": false,
     "input": [
      "eigproc_cor.df"
     ],
     "language": "python",
     "metadata": {},
     "outputs": [
      {
       "html": [
        "<div style=\"max-height:1000px;max-width:1500px;overflow:auto;\">\n",
        "<table border=\"1\" class=\"dataframe\">\n",
        "  <thead>\n",
        "    <tr style=\"text-align: right;\">\n",
        "      <th></th>\n",
        "      <th>ro2</th>\n",
        "      <th>ro1</th>\n",
        "      <th>h1</th>\n",
        "      <th>h2</th>\n",
        "    </tr>\n",
        "  </thead>\n",
        "  <tbody>\n",
        "    <tr>\n",
        "      <th>ro2</th>\n",
        "      <td> 1.000000</td>\n",
        "      <td> 0.277016</td>\n",
        "      <td> 0.448066</td>\n",
        "      <td>-0.999060</td>\n",
        "    </tr>\n",
        "    <tr>\n",
        "      <th>ro1</th>\n",
        "      <td> 0.277016</td>\n",
        "      <td> 1.000000</td>\n",
        "      <td> 0.981897</td>\n",
        "      <td>-0.278459</td>\n",
        "    </tr>\n",
        "    <tr>\n",
        "      <th>h1</th>\n",
        "      <td> 0.448066</td>\n",
        "      <td> 0.981897</td>\n",
        "      <td> 1.000000</td>\n",
        "      <td>-0.448628</td>\n",
        "    </tr>\n",
        "    <tr>\n",
        "      <th>h2</th>\n",
        "      <td>-0.999060</td>\n",
        "      <td>-0.278459</td>\n",
        "      <td>-0.448628</td>\n",
        "      <td> 1.000000</td>\n",
        "    </tr>\n",
        "  </tbody>\n",
        "</table>\n",
        "</div>"
       ],
       "metadata": {},
       "output_type": "pyout",
       "prompt_number": 9,
       "text": [
        "          ro2       ro1        h1        h2\n",
        "ro2  1.000000  0.277016  0.448066 -0.999060\n",
        "ro1  0.277016  1.000000  0.981897 -0.278459\n",
        "h1   0.448066  0.981897  1.000000 -0.448628\n",
        "h2  -0.999060 -0.278459 -0.448628  1.000000"
       ]
      }
     ],
     "prompt_number": 9
    },
    {
     "cell_type": "code",
     "collapsed": false,
     "input": [
      "eigproc_cor.plot_heatmap()"
     ],
     "language": "python",
     "metadata": {},
     "outputs": [
      {
       "metadata": {},
       "output_type": "pyout",
       "prompt_number": 10,
       "text": [
        "(<matplotlib.figure.Figure at 0xcb1e5c0>,\n",
        " <matplotlib.axes._subplots.AxesSubplot at 0xcb1e8d0>)"
       ]
      },
      {
       "metadata": {},
       "output_type": "display_data",
       "png": "[encoded data removed]",
       "text": [
        "<matplotlib.figure.Figure at 0xcb1e5c0>"
       ]
      }
     ],
     "prompt_number": 10
    },
    {
     "cell_type": "code",
     "collapsed": false,
     "input": [
      "from IPython.html.widgets import interactive, fixed\n",
      "from IPython.display import display\n",
      "from IPython.html import widgets "
     ],
     "language": "python",
     "metadata": {},
     "outputs": [],
     "prompt_number": 11
    },
    {
     "cell_type": "code",
     "collapsed": false,
     "input": [
      "def interact_eigproc(exlim, n, cor, parsen):\n",
      "    eigproc_df, eigenvalue, eigproc_cor = eig.eigproc(exlim, n, cor=cor, parsen=parsen)\n",
      "    count = len(eigproc_cor.df.values)\n",
      "    display('Eigenvalue: %e' % eigenvalue)\n",
      "    if count == 0:\n",
      "        display('Number of Parameters = 0')\n",
      "    else:\n",
      "        display(eigproc_df)\n",
      "    if count > 20:\n",
      "        display('Plot not shown, number of parameters greater than 20')\n",
      "    elif count <= 20 and count > 0:\n",
      "        display(eigproc_cor.plot_heatmap())\n"
     ],
     "language": "python",
     "metadata": {},
     "outputs": [],
     "prompt_number": 12
    },
    {
     "cell_type": "code",
     "collapsed": false,
     "input": [
      "exlim_widget = widgets.FloatTextWidget(\n",
      "    value=0.1)\n",
      "n_widget = widgets.IntSliderWidget(min=1,max=5,step=1,value=1)"
     ],
     "language": "python",
     "metadata": {},
     "outputs": [],
     "prompt_number": 19
    },
    {
     "cell_type": "code",
     "collapsed": false,
     "input": [
      "interactive(interact_eigproc, exlim=exlim_widget, n=n_widget, cor=fixed(cor), parsen=fixed(parsen))"
     ],
     "language": "python",
     "metadata": {},
     "outputs": [
      {
       "metadata": {},
       "output_type": "display_data",
       "text": [
        "'Eigenvalue: 4.742009e-12'"
       ]
      },
      {
       "html": [
        "<div style=\"max-height:1000px;max-width:1500px;overflow:auto;\">\n",
        "<table border=\"1\" class=\"dataframe\">\n",
        "  <thead>\n",
        "    <tr style=\"text-align: right;\">\n",
        "      <th></th>\n",
        "      <th>Eigenvector Component</th>\n",
        "      <th>Sensitivity</th>\n",
        "      <th>Parameter Group</th>\n",
        "    </tr>\n",
        "  </thead>\n",
        "  <tbody>\n",
        "    <tr>\n",
        "      <th>ro2</th>\n",
        "      <td> 0.552733</td>\n",
        "      <td> 1.914405</td>\n",
        "      <td>  ro</td>\n",
        "    </tr>\n",
        "    <tr>\n",
        "      <th>ro1</th>\n",
        "      <td> 0.487171</td>\n",
        "      <td> 1.836146</td>\n",
        "      <td>  ro</td>\n",
        "    </tr>\n",
        "    <tr>\n",
        "      <th>h1</th>\n",
        "      <td> 0.481179</td>\n",
        "      <td> 1.817096</td>\n",
        "      <td> hhh</td>\n",
        "    </tr>\n",
        "    <tr>\n",
        "      <th>h2</th>\n",
        "      <td> 0.473360</td>\n",
        "      <td> 1.807584</td>\n",
        "      <td> hhh</td>\n",
        "    </tr>\n",
        "  </tbody>\n",
        "</table>\n",
        "</div>"
       ],
       "metadata": {},
       "output_type": "display_data",
       "text": [
        "     Eigenvector Component  Sensitivity Parameter Group\n",
        "ro2               0.552733     1.914405              ro\n",
        "ro1               0.487171     1.836146              ro\n",
        "h1                0.481179     1.817096             hhh\n",
        "h2                0.473360     1.807584             hhh"
       ]
      },
      {
       "metadata": {},
       "output_type": "display_data",
       "text": [
        "(<matplotlib.figure.Figure at 0xe43dba8>,\n",
        " <matplotlib.axes._subplots.AxesSubplot at 0xe742ac8>)"
       ]
      },
      {
       "metadata": {},
       "output_type": "display_data",
       "png": "[encoded data removed]",
       "text": [
        "<matplotlib.figure.Figure at 0xe43dba8>"
       ]
      }
     ],
     "prompt_number": 20
    },
    {
     "cell_type": "code",
     "collapsed": false,
     "input": [],
     "language": "python",
     "metadata": {},
     "outputs": []
    },
    {
     "cell_type": "code",
     "collapsed": false,
     "input": [],
     "language": "python",
     "metadata": {},
     "outputs": []
    }
   ],
   "metadata": {}
  }
 ]
}